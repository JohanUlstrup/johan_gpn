{
 "cells": [
  {
   "cell_type": "markdown",
   "id": "4c7fb6e3",
   "metadata": {},
   "source": [
    "### Transcription factor binding motifs (MEME).\n",
    "kilde:; https://www.cell.com/molecular-cell/fulltext/S1097-2765(18)30989-4?_returnURL=https%3A%2F%2Flinkinghub.elsevier.com%2Fretrieve%2Fpii%2FS1097276518309894%3Fshowall%3Dtrue\n",
    "\n",
    "To do: Investigate CTCF motifs\n",
    "\n",
    "- What is a CTCF motif?\n",
    "- Find the correct file to load:\n",
    "  - Correct file: `data/comp_edges/spermatogonia_100kb_10Mb_edges.csv`\n",
    "- Look into MEME:\n",
    "  - Install MEME\n",
    "  - is tere aditional file needed fx a sequences file?\n",
    "  - find the missing files \n",
    "  - Investigate CTCF motif using MEME\n"
   ]
  },
  {
   "cell_type": "code",
   "execution_count": 3,
   "id": "76496831",
   "metadata": {},
   "outputs": [],
   "source": [
    "import pandas as pd"
   ]
  },
  {
   "cell_type": "markdown",
   "id": "d0056402",
   "metadata": {},
   "source": [
    "### fjernlse ad NA værdier df_eigen.dropna(inplace=True)\n",
    "featur eller bock ændre på hvor kanterne ligger. lige nu er hver na værdi registreret som en kant. nan skyldes at der ikke har været nok data til pca. søren brugte forward fill til NA værdierne "
   ]
  },
  {
   "cell_type": "code",
   "execution_count": 142,
   "id": "4c9cb512",
   "metadata": {},
   "outputs": [
    {
     "name": "stdout",
     "output_type": "stream",
     "text": [
      "          e1    start\n",
      "0        NaN        0\n",
      "1        NaN   100000\n",
      "2        NaN   200000\n",
      "3        NaN   300000\n",
      "4        NaN   400000\n",
      "5        NaN   500000\n",
      "6        NaN   600000\n",
      "7        NaN   700000\n",
      "8        NaN   800000\n",
      "9   0.686841   900000\n",
      "10       NaN  1000000\n",
      "11       NaN  1100000\n",
      "12       NaN  1200000\n",
      "13  0.879835  1300000\n",
      "14  0.868704  1400000\n",
      "15  0.713170  1500000\n",
      "16  0.800400  1600000\n",
      "17  0.831374  1700000\n",
      "18  0.839612  1800000\n",
      "19  0.791525  1900000\n",
      "20  0.727534  2000000\n",
      "21  0.673111  2100000\n",
      "22  0.664820  2200000\n",
      "23       NaN  2300000\n",
      "24 -0.259239  2400000\n",
      "25 -0.555641  2500000\n",
      "26 -0.545779  2600000\n",
      "27 -0.497842  2700000\n",
      "28 -0.431893  2800000\n",
      "29 -0.318080  2900000\n"
     ]
    },
    {
     "data": {
      "text/plain": [
       "array([   800000,    900000,   1200000,   2200000,   9600000,   9900000,\n",
       "        10000000,  10100000,  10300000,  10400000,  10900000,  11000000,\n",
       "        12500000,  12900000,  13100000,  13300000,  16400000,  19200000,\n",
       "        19600000,  19800000,  20700000,  21700000,  21900000,  27000000,\n",
       "        27100000,  28800000,  29900000,  30000000,  37900000,  40200000,\n",
       "        40800000,  40900000,  41000000,  41100000,  47000000,  49200000,\n",
       "        49300000,  50600000,  53000000,  54100000,  67200000,  67600000,\n",
       "        67700000,  68600000,  68700000,  69700000,  70300000,  70400000,\n",
       "        70500000,  71200000,  71500000,  72000000,  72100000,  72700000,\n",
       "        72800000,  73000000,  73100000,  73200000,  73500000,  73600000,\n",
       "        73900000,  74100000,  74700000,  74800000,  74900000,  75000000,\n",
       "        75100000,  75300000,  75400000,  75600000,  75900000,  76500000,\n",
       "        76600000,  77000000,  77100000,  77300000,  77500000,  78400000,\n",
       "        79000000,  79100000,  79900000,  80800000,  81100000,  81600000,\n",
       "        81800000,  82000000,  82100000,  82600000,  82800000,  84100000,\n",
       "        84300000,  84800000,  85100000,  85500000,  85600000,  85700000,\n",
       "        86200000,  86300000,  87100000,  87200000,  87400000,  87600000,\n",
       "        88000000,  88300000,  89200000,  91400000,  97600000,  98400000,\n",
       "        98500000,  98900000,  99000000, 100300000, 100800000, 100900000,\n",
       "       103400000, 104500000, 106300000, 107500000, 107600000, 107900000,\n",
       "       108000000, 108100000, 108200000, 108900000, 109300000, 109600000,\n",
       "       110400000, 112100000, 114100000, 116400000, 119900000, 120200000,\n",
       "       125700000, 126600000, 126800000, 127000000, 127900000, 129900000,\n",
       "       130500000, 133100000, 135300000, 135400000, 135700000, 136100000,\n",
       "       140000000, 140100000, 140200000, 140500000, 141100000, 141200000,\n",
       "       145500000, 145600000, 145800000, 148200000, 148400000, 148500000,\n",
       "       148700000, 148900000, 149000000, 149100000, 149200000, 149300000,\n",
       "       149500000, 150000000, 150600000, 151200000, 151400000, 151500000,\n",
       "       151600000, 151800000])"
      ]
     },
     "execution_count": 142,
     "metadata": {},
     "output_type": "execute_result"
    }
   ],
   "source": [
    "import numpy as np\n",
    "\n",
    "df_eigen = pd.read_csv(\"/home/johanulstrup/johan_gpn/people/johanulsrup/johan_gpn/data/eigentracks/spermatogonia_e1_100kb_10Mb.csv\", sep=\"\\t\")\n",
    "\n",
    "\n",
    "df_eigen[\"start\"] = df_eigen.index * 100000\n",
    "print(df_eigen.head(30))\n",
    "\n",
    "#df_eigen.dropna(inplace=True)# featur eller bock ændre på hvor kanterne ligger. lige nu er hver na værdi registreret som en kant. nan skyldes at der ikke har været nok data til pca. søren brugte forward fill til NA værdierne \n",
    "#np.diff\n",
    "sign_change_coords = np.where(np.diff((df_eigen.e1 > 0).astype(int)))[0]\n",
    "sign_change_coords*100000"
   ]
  },
  {
   "cell_type": "code",
   "execution_count": 4,
   "id": "5cdf13a7",
   "metadata": {},
   "outputs": [
    {
     "name": "stdout",
     "output_type": "stream",
     "text": [
      "      start       end chrom  resolution      edge\n",
      "0    800000   1000000  chrX      100000    900000\n",
      "1   1100000   1400000  chrX      100000   1200000\n",
      "2   2300000   2500000  chrX      100000   2400000\n",
      "3   9600000   9800000  chrX      100000   9700000\n",
      "4   9900000  10600000  chrX      100000  10000000\n",
      "5  10900000  11200000  chrX      100000  11000000\n",
      "6  12500000  12700000  chrX      100000  12600000\n",
      "7  12900000  13500000  chrX      100000  13000000\n",
      "8  16400000  16600000  chrX      100000  16500000\n",
      "9  19200000  19400000  chrX      100000  19300000\n",
      "(86, 5)\n"
     ]
    }
   ],
   "source": [
    "\"Her er kanterne i 200Kbp overgangszoner.\"\n",
    "\" Alle intervaller er 200kb, så du kan nemt finde den aktuelle boundary\"\n",
    "\" ved at tage midtpunktet mellem (start) og (end) på hver interval\"\n",
    "\n",
    "df = pd.read_csv(\"../data/comp_edges/spermatogonia_100kb_10Mb_edges.csv\")\n",
    "\n",
    "resolution = 100_000\n",
    "df['edge'] = df['start']+resolution\n",
    "\n",
    "print(df.head(10))\n",
    "print(df.shape)"
   ]
  },
  {
   "cell_type": "code",
   "execution_count": 3,
   "id": "29ff7f73",
   "metadata": {},
   "outputs": [],
   "source": [
    "# Downloading the reference genome using NCBI Entrez\n",
    "import subprocess\n",
    "accession = \"GCF_003339765.1\"\n",
    "output_file = f\"../data/{accession}_genome.zip\"\n",
    "\n",
    "# Download genome dataset\n",
    "#subprocess.run([\"datasets\", \"download\", \"genome\", \"accession\", accession, \"--filename\", output_file])\n",
    "\n",
    "# Unzip if needed\n",
    "#subprocess.run([\"unzip\", \"-o\", output_file, \"-d\", accession])\n"
   ]
  },
  {
   "cell_type": "markdown",
   "id": "719e57cd",
   "metadata": {},
   "source": [
    "2 option eather edit fasta file so it only contains the seq interval of 200kb that sorunds the edges (100kb on each side) or we just run meme and the sort the output later"
   ]
  },
  {
   "cell_type": "markdown",
   "id": "c71ffb79",
   "metadata": {},
   "source": [
    "only x chrm"
   ]
  },
  {
   "cell_type": "code",
   "execution_count": 5,
   "id": "cb2e26ab",
   "metadata": {},
   "outputs": [],
   "source": [
    "#!/usr/bin/env python3\n",
    "\n",
    "input_fasta = \"/home/johanulstrup/johan_gpn/people/johanulsrup/johan_gpn/data/macaca/ncbi_dataset/data/GCF_003339765.1/GCF_003339765.1_Mmul_10_genomic.fna\"\n",
    "output_fasta = \"/home/johanulstrup/johan_gpn/people/johanulsrup/johan_gpn/data/macaca/ncbi_dataset/data/GCF_003339765.1/X_chromosome.fna\"\n",
    "target_id_part = \"chromosome X\" # Or \"NC_041764.1\", or \"chrX\"\n",
    "\n",
    "with open(input_fasta, 'r') as infile, open(output_fasta, 'w') as outfile:\n",
    "    write_sequence = False\n",
    "    for line in infile:\n",
    "        if line.startswith('>'):\n",
    "            if target_id_part in line: # Check if the target identifier is in the header\n",
    "                outfile.write(line)\n",
    "                write_sequence = True\n",
    "            else:\n",
    "                write_sequence = False # Stop writing if it's a different header\n",
    "        elif write_sequence:\n",
    "            outfile.write(line)\n",
    "\n"
   ]
  },
  {
   "cell_type": "markdown",
   "id": "169e944f",
   "metadata": {},
   "source": [
    "Geneinfo  ideogram"
   ]
  },
  {
   "cell_type": "code",
   "execution_count": 1,
   "id": "be928b1d",
   "metadata": {},
   "outputs": [],
   "source": [
    "# import geneinfo.plot as gplt\n",
    "# #plot geneome for baboon\n",
    "# g = gplt.GenomeIdeogram(assembly='papHam1') \n",
    "# g.draw_chromosomes()"
   ]
  },
  {
   "cell_type": "code",
   "execution_count": null,
   "id": "65ea26e9",
   "metadata": {},
   "outputs": [],
   "source": [
    "# ## plot geneome for macaque\n",
    "# g = gplt.GenomeIdeogram(assembly='rheMac10')\n",
    "# g.draw_chromosomes()"
   ]
  },
  {
   "cell_type": "code",
   "execution_count": null,
   "id": "61c5271d",
   "metadata": {},
   "outputs": [],
   "source": [
    "# ## only plot chromosome X\n",
    "# x = gplt.ChromIdeogram('chrX', assembly='papHam1')\n",
    "# x.draw_chromosomes()\n",
    "\n",
    "# x2 = gplt.ChromIdeogram('chrX', assembly='rheMac10')\n",
    "# x2.draw_chromosomes()\n"
   ]
  },
  {
   "cell_type": "markdown",
   "id": "d1d54535",
   "metadata": {},
   "source": [
    "Genomic segment annotation\n",
    "segnemt default minimum is 200kb  "
   ]
  },
  {
   "cell_type": "code",
   "execution_count": 8,
   "id": "e821c620",
   "metadata": {},
   "outputs": [
    {
     "name": "stdout",
     "output_type": "stream",
     "text": [
      "[('chrX', 900001, 1200000, 0), ('chrX', 1200001, 2400000, 1), ('chrX', 2400001, 9700000, 0), ('chrX', 9700001, 10000000, 1), ('chrX', 10000001, 11000000, 0)]\n"
     ]
    }
   ],
   "source": [
    "# segment, but not stupid\n",
    "\n",
    "import numpy as np\n",
    "\n",
    "edges = df['edge'].to_numpy()\n",
    "chrom = df['chrom'].iloc[0]  # assumes all rows have the same chromosome\n",
    "\n",
    "segments_with_alpha = [\n",
    "    ('chrX', int(edges[i]+1), int(edges[i+1]), i % 2)\n",
    "    for i in range(len(edges) - 1)\n",
    "]\n",
    "\n",
    "# Example output (first 3 elements)\n",
    "print(segments_with_alpha[:5])"
   ]
  },
  {
   "cell_type": "code",
   "execution_count": 10,
   "id": "a0da330f",
   "metadata": {},
   "outputs": [
    {
     "name": "stdout",
     "output_type": "stream",
     "text": [
      "✅ All segments >= 200,000: True\n"
     ]
    }
   ],
   "source": [
    "min_size = 200_000\n",
    "\n",
    "all_ok = all(\n",
    "    (end - start) >= min_size\n",
    "    for _, start, end, _ in segments_with_alpha\n",
    ")\n",
    "\n",
    "print(\" All segments >= 200,000:\", all_ok)"
   ]
  },
  {
   "cell_type": "code",
   "execution_count": null,
   "id": "38957d13",
   "metadata": {},
   "outputs": [
    {
     "data": {
      "image/png": "[encoded data removed]",
      "text/plain": [
       "<Figure size 1200x200 with 1 Axes>"
      ]
     },
     "metadata": {},
     "output_type": "display_data"
    }
   ],
   "source": [
    "import matplotlib.pyplot as plt\n",
    "\n",
    "import geneinfo.plot as gplt\n",
    "x = gplt.ChromIdeogram('chrX', assembly='rheMac10')\n",
    "x.draw_chromosomes()\n",
    "x.add_segments(segments_with_alpha, facecolor='tab:blue')\n",
    "plt.show()"
   ]
  },
  {
   "cell_type": "markdown",
   "id": "4a8bf4b5",
   "metadata": {},
   "source": [
    "plot show a and b compartment \n",
    "what is what?\n",
    "macaque\n",
    "\n",
    "remapping:\n",
    "recombination rate wiinduer \n",
    "genere\n",
    "metylering \n",
    "repeats \n",
    "\n",
    "\n",
    "søren har lave a og b kort: hvordan relatere de sig til hinanden?\n",
    "- sæt sig godt in i de kort\n",
    "- hvoedan er de lavet? og hvilket bias?\n",
    "- de er korigeret kort forskellige\n",
    "\n",
    "remove git-lfs"
   ]
  },
  {
   "cell_type": "markdown",
   "id": "3e0e57e0",
   "metadata": {},
   "source": [
    "recombination rate wiinduer \n",
    "ucmbic download recombinations kort forhpåbenligt i 100 kb intervaller https://genome.ucsc.edu/cgi-bin/hgTables"
   ]
  },
  {
   "cell_type": "markdown",
   "id": "d3e4f2be",
   "metadata": {},
   "source": [
    "## Repeats remapping\n",
    "- download from UCSC: https://hgdownload.soe.ucsc.edu/goldenPath/rheMac10/database/\n",
    "\n",
    "## note: here i have not taken into account which compartment the repeat is in only that it is before of after the edged, give that we chang form a to be at an edges then in alternate between bing a and b befor the edges "
   ]
  },
  {
   "cell_type": "code",
   "execution_count": 101,
   "id": "76f249b4",
   "metadata": {},
   "outputs": [
    {
     "name": "stdout",
     "output_type": "stream",
     "text": [
      "   bin chrom  chromStart  chromEnd     name  score strand  thickStart  \\\n",
      "0  585  chr1        3116      3467  AluYRa1    856      +        3116   \n",
      "1  585  chr1        3926      7211    L1PA7    748      +        3926   \n",
      "2  585  chr1       13937     14502  L1ME3Cz    184      +       13937   \n",
      "3  585  chr1       17217     20642    L1MB2    319      +       17217   \n",
      "4  585  chr1       18677     19608    AluJb    606      -       18677   \n",
      "\n",
      "   thickEnd  reserved  blockCount          blockSizes            chromStarts  \\\n",
      "0      3467         0           2             301,19,                 0,332,   \n",
      "1      7211         0           2          1116,1857,                0,1428,   \n",
      "2     14502         0           2            329,136,                 0,429,   \n",
      "3     20642         0           5  113,564,72,45,452,  0,469,1337,2635,2973,   \n",
      "4     19608         0           2             77,238,                 0,693,   \n",
      "\n",
      "    strandRep  repLeft repClass repFamily  \n",
      "0        +,+,        3     SINE       Alu  \n",
      "1        +,+,        5     LINE        L1  \n",
      "2        +,+,       14     LINE        L1  \n",
      "3  +,+,+,+,+,       18     LINE        L1  \n",
      "4        -,-,       20     SINE       Alu  \n"
     ]
    }
   ],
   "source": [
    "#INPORT repeats \n",
    "#header found here= https://genome.ucsc.edu/cgi-bin/hgTables?db=hg38&hgta_group=rep&hgta_track=nestedRepeats&hgta_table=nestedRepeats&hgta_doSchema=describe+table+schema\n",
    "columns = [\n",
    "    \"bin\", \"chrom\", \"chromStart\", \"chromEnd\", \"name\", \"score\", \"strand\",\n",
    "    \"thickStart\", \"thickEnd\", \"reserved\", \"blockCount\", \"blockSizes\",\n",
    "    \"chromStarts\", \"strandRep\", \"repLeft\", \"repClass\", \"repFamily\"\n",
    "]\n",
    "\n",
    "repeats = pd.read_csv(\"/home/johanulstrup/johan_gpn/people/johanulsrup/johan_gpn/data/nestedRepeats.txt\", sep='\\t', header=None, names=columns)\n",
    "\n",
    "# View first few rows\n",
    "print(repeats.head())"
   ]
  },
  {
   "cell_type": "code",
   "execution_count": null,
   "id": "b7577c6f",
   "metadata": {},
   "outputs": [
    {
     "name": "stdout",
     "output_type": "stream",
     "text": [
      "       chrom   start     end\n",
      "525243  chrX  805308  805520\n",
      "525244  chrX  823469  823608\n",
      "525245  chrX  826230  826721\n",
      "525246  chrX  832268  833492\n",
      "525247  chrX  842705  842917\n"
     ]
    },
    {
     "name": "stdout",
     "output_type": "stream",
     "text": [
      "  chrom    start       end\n",
      "0  chrX   800000   1000000\n",
      "1  chrX  1100000   1400000\n",
      "2  chrX  2300000   2500000\n",
      "3  chrX  9600000   9800000\n",
      "4  chrX  9900000  10600000\n",
      "       chrom  start    end\n",
      "525131  chrX   2386   3360\n",
      "525132  chrX  17185  17670\n",
      "525133  chrX  22442  23286\n",
      "525134  chrX  50036  50706\n",
      "525135  chrX  60297  62034\n",
      "   start  end chrom  start_orig  end_orig  mid  absmid\n",
      "0    NaN  NaN  chrX      805308    805520  NaN     NaN\n",
      "1    NaN  NaN  chrX      805308    805520  NaN     NaN\n",
      "2    NaN  NaN  chrX      823469    823608  NaN     NaN\n",
      "3    NaN  NaN  chrX      823469    823608  NaN     NaN\n",
      "4    NaN  NaN  chrX      826230    826721  NaN     NaN\n",
      "[        nan  0.03619     0.07586    ... -0.00734917 -0.0080025\n",
      " -0.0085375 ]\n",
      "is na: 10310\n",
      "not na: 27287\n"
     ]
    },
    {
     "data": {
      "text/plain": [
       "<Axes: xlabel='start', ylabel='Count'>"
      ]
     },
     "execution_count": 102,
     "metadata": {},
     "output_type": "execute_result"
    },
    {
     "data": {
      "image/png": "[encoded data removed]",
      "text/plain": [
       "<Figure size 640x480 with 1 Axes>"
      ]
     },
     "metadata": {},
     "output_type": "display_data"
    }
   ],
   "source": [
    "from genominterv.remapping import remap\n",
    "from genominterv.remapping import interval_distance, genomic\n",
    "from genominterv.remapping import remap_interval_data\n",
    "\n",
    "import genominterv\n",
    "import seaborn as sns\n",
    "\n",
    "# Prepare dataframes for distance calculation\n",
    "df_comp = df[['chrom', 'start', 'end']].copy()\n",
    "df_rep = repeats[repeats['chrom'] == 'chrX'][['chrom', 'chromStart', 'chromEnd']].rename(\n",
    "    columns={'chromStart': 'start', 'chromEnd': 'end'}\n",
    ")\n",
    "\n",
    "#remove repeats that are not nere the a and b transition zones\n",
    "min_start = df_comp['start'].min()\n",
    "max_end = df_comp['end'].max()\n",
    "\n",
    "df_rep_filtered = df_rep[(df_rep['start'] <= max_end) & (df_rep['end'] >= min_start)]\n",
    "print(df_rep_filtered.head())\n",
    "\n",
    "# Calculate distances between compartments and repeats\n",
    "results = remap_interval_data(df_rep_filtered,df_comp,relative=True)\n",
    "results[\"mid\"]=(results[\"start\"] + results[\"end\"] ) / 2\n",
    "results[\"absmid\"] = results[\"mid\"].abs()\n",
    "\n",
    "\n",
    "print(df_comp.head())\n",
    "print(df_rep.head())\n",
    "print(results.head())\n",
    "\n",
    "#testing results\n",
    "print(results[\"start\"].unique())\n",
    "print(\"is na:\",results[\"start\"].isna().sum())\n",
    "print(\"not na:\",results[\"start\"].notna().sum())\n",
    "\n",
    "#uniform fordeling af data til at plotte op imod\n",
    "n = 1000\n",
    "a = np.sort(np.random.randint(1, 10_000_000, size=n))\n",
    "annot = pd.DataFrame(dict(chrom='chrX', start=a, end=a+10))\n",
    "q = np.sort(np.random.randint(1, 10_000_000, size=n))\n",
    "query = pd.DataFrame(dict(chrom='chrX', start=q, end=q+10))\n",
    "df1 = remap_interval_data(query, annot, relative=True)\n",
    "df1['mid'] = (df1.start + df1.end) / 2\n",
    "df1['absmid'] = df1.mid.abs()\n",
    "\n",
    "sns.histplot(df1, x='start', bins=np.linspace(-0.5, 0.5, 20))\n",
    "sns.histplot(results, x='start', bins=np.linspace(-0.5, 0.5, 20))\n",
    "\n",
    "\n"
   ]
  },
  {
   "cell_type": "code",
   "execution_count": 103,
   "id": "1177f015",
   "metadata": {},
   "outputs": [
    {
     "data": {
      "text/plain": [
       "<Axes: xlabel='mid', ylabel='Count'>"
      ]
     },
     "execution_count": 103,
     "metadata": {},
     "output_type": "execute_result"
    },
    {
     "data": {
      "image/png": "[encoded data removed]",
      "text/plain": [
       "<Figure size 640x480 with 1 Axes>"
      ]
     },
     "metadata": {},
     "output_type": "display_data"
    }
   ],
   "source": [
    "#mid\n",
    "sns.histplot(df1, x='mid', bins=np.linspace(-0.5, 0.5, 20))\n",
    "sns.histplot(results, x='mid', bins=np.linspace(-0.5, 0.5, 20))"
   ]
  },
  {
   "cell_type": "code",
   "execution_count": 104,
   "id": "337ec571",
   "metadata": {},
   "outputs": [
    {
     "data": {
      "text/plain": [
       "<Axes: xlabel='absmid', ylabel='Count'>"
      ]
     },
     "execution_count": 104,
     "metadata": {},
     "output_type": "execute_result"
    },
    {
     "data": {
      "image/png": "[encoded data removed]",
      "text/plain": [
       "<Figure size 640x480 with 1 Axes>"
      ]
     },
     "metadata": {},
     "output_type": "display_data"
    }
   ],
   "source": [
    "sns.histplot(df1, x='absmid', bins=np.linspace(-0.5, 0.5, 20))\n",
    "sns.histplot(results, x='absmid', bins=np.linspace(-0.5, 0.5, 20))\n"
   ]
  },
  {
   "cell_type": "markdown",
   "id": "67b6925e",
   "metadata": {},
   "source": [
    "## Eigen tracks\n",
    "function to extract the eigen tracks from the file"
   ]
  },
  {
   "cell_type": "code",
   "execution_count": 144,
   "id": "dd70cfcf",
   "metadata": {},
   "outputs": [],
   "source": [
    "def parse_compartment_data(file_name):\n",
    "    e1_100kb = pd.read_csv(file_name)\n",
    "    e1_100kb['start'] = [i*100_000 for i in range(e1_100kb.index.size)]\n",
    "    e1_100kb['end'] = e1_100kb.start + 100_000\n",
    "    e1_100kb['sign'] = np.sign(e1_100kb.e1)\n",
    "    e1_100kb['segment_id'] = ((e1_100kb.sign.shift() != e1_100kb.sign)).cumsum()\n",
    "    \n",
    "    comp = e1_100kb.groupby('segment_id', as_index=False).agg(dict(\n",
    "         e1=['mean', 'sum'], \n",
    "         start='min', \n",
    "         end='max', \n",
    "         segment_id='mean', \n",
    "         sign='mean'\n",
    "    ))\n",
    "    comp.columns = ['_'.join(col).strip() for col in comp.columns.values]\n",
    "    comp = comp.rename(\n",
    "        columns={'start_min':'start',\n",
    "                 'end_max':'end', \n",
    "                 'segment_id_mean':'segment_id', \n",
    "                 'sign_mean':'sign'}\n",
    "    )\n",
    "    comp['comp'] = ['A' if x > 0 else 'B' for x in comp.sign]\n",
    "    comp = comp.reset_index()\n",
    "    comp['chrom'] = 'chrX'\n",
    "    \n",
    "    _comp = comp.copy()\n",
    "    for i in range(1, _comp.index.size-1):\n",
    "        if np.isnan(_comp.loc[i-1, 'e1_mean']):\n",
    "            _comp.loc[i, 'start'] = np.nan\n",
    "        if np.isnan(_comp.loc[i+1, 'e1_mean']):\n",
    "            _comp.loc[i, 'end'] = np.nan\n",
    "    _comp = _comp.loc[~_comp.e1_mean.isnull(), :]\n",
    "    _comp = _comp.reset_index()\n",
    "    compartment_edges = pd.concat([_comp.start, _comp.end]).sort_values().unique()\n",
    "    \n",
    "    compartments = comp.loc[~comp.e1_mean.isnull()].copy()\n",
    "    compartments['start'] = compartments.start.astype(int)\n",
    "    compartments['end'] = compartments.end.astype(int)\n",
    "\n",
    "    return compartments, compartment_edges\n",
    "\n"
   ]
  },
  {
   "cell_type": "code",
   "execution_count": 145,
   "id": "28f07bb3",
   "metadata": {},
   "outputs": [],
   "source": [
    "def edge_segments(compartment_edges, flank):\n",
    "    compartment_edge_segm = pd.DataFrame(np.column_stack((compartment_edges, compartment_edges+flank)), columns=['start', 'end'])\n",
    "    compartment_edge_segm['chrom'] = 'chrX'\n",
    "    return compartment_edge_segm\n",
    "\n",
    "\n"
   ]
  },
  {
   "cell_type": "code",
   "execution_count": 180,
   "id": "710a6a6c",
   "metadata": {},
   "outputs": [
    {
     "name": "stdout",
     "output_type": "stream",
     "text": [
      "(119,)\n"
     ]
    },
    {
     "data": {
      "text/plain": [
       "array([9.700e+06, 1.000e+07, 1.010e+07, 1.020e+07, 1.040e+07, 1.050e+07,\n",
       "       1.100e+07, 1.110e+07, 1.260e+07, 1.300e+07, 1.320e+07, 1.340e+07,\n",
       "       1.650e+07, 1.930e+07, 1.970e+07, 1.990e+07, 2.080e+07, 2.180e+07,\n",
       "       2.200e+07, 2.710e+07, 2.720e+07, 2.890e+07, 3.000e+07, 3.010e+07,\n",
       "       3.800e+07, 4.030e+07, 4.090e+07, 4.100e+07, 4.110e+07, 4.120e+07,\n",
       "       4.710e+07, 5.070e+07, 5.310e+07, 5.420e+07, 6.730e+07, 6.770e+07,\n",
       "       6.780e+07, 7.130e+07, 7.160e+07, 7.210e+07, 7.220e+07, 7.420e+07,\n",
       "       7.480e+07, 7.710e+07, 7.720e+07, 7.740e+07, 7.760e+07, 7.850e+07,\n",
       "       7.920e+07, 8.000e+07, 8.090e+07, 8.120e+07, 8.170e+07, 8.190e+07,\n",
       "       8.210e+07, 8.220e+07, 8.270e+07, 8.290e+07, 8.420e+07, 8.440e+07,\n",
       "       8.490e+07, 8.520e+07, 8.560e+07, 8.570e+07, 8.580e+07, 8.630e+07,\n",
       "       8.640e+07, 8.720e+07, 8.730e+07, 8.750e+07, 8.770e+07, 8.810e+07,\n",
       "       8.840e+07, 8.930e+07, 9.770e+07, 1.004e+08, 1.009e+08, 1.010e+08,\n",
       "       1.035e+08, 1.046e+08, 1.064e+08, 1.076e+08, 1.077e+08, 1.080e+08,\n",
       "       1.081e+08, 1.082e+08, 1.083e+08, 1.090e+08, 1.094e+08, 1.097e+08,\n",
       "       1.105e+08, 1.122e+08, 1.142e+08, 1.165e+08, 1.200e+08, 1.203e+08,\n",
       "       1.258e+08, 1.267e+08, 1.269e+08, 1.271e+08, 1.280e+08, 1.300e+08,\n",
       "       1.306e+08, 1.332e+08, 1.354e+08, 1.355e+08, 1.358e+08, 1.362e+08,\n",
       "       1.401e+08, 1.402e+08, 1.403e+08, 1.406e+08, 1.412e+08, 1.413e+08,\n",
       "       1.456e+08, 1.483e+08, 1.485e+08, 1.507e+08,       nan])"
      ]
     },
     "execution_count": 180,
     "metadata": {},
     "output_type": "execute_result"
    }
   ],
   "source": [
    "edges_comps, eigen_edges = parse_compartment_data(\"/home/johanulstrup/johan_gpn/people/johanulsrup/johan_gpn/data/eigentracks/spermatogonia_e1_100kb_10Mb.csv\")\n",
    "\n",
    "#edges_comps\n",
    "print(eigen_edges.shape)\n",
    "eigen_edges\n"
   ]
  },
  {
   "cell_type": "code",
   "execution_count": 154,
   "id": "2fa773a2",
   "metadata": {},
   "outputs": [
    {
     "data": {
      "text/html": [
       "<div>\n",
       "<style scoped>\n",
       "    .dataframe tbody tr th:only-of-type {\n",
       "        vertical-align: middle;\n",
       "    }\n",
       "\n",
       "    .dataframe tbody tr th {\n",
       "        vertical-align: top;\n",
       "    }\n",
       "\n",
       "    .dataframe thead th {\n",
       "        text-align: right;\n",
       "    }\n",
       "</style>\n",
       "<table border=\"1\" class=\"dataframe\">\n",
       "  <thead>\n",
       "    <tr style=\"text-align: right;\">\n",
       "      <th></th>\n",
       "      <th>index</th>\n",
       "      <th>e1_mean</th>\n",
       "      <th>e1_sum</th>\n",
       "      <th>start</th>\n",
       "      <th>end</th>\n",
       "      <th>segment_id</th>\n",
       "      <th>sign</th>\n",
       "      <th>comp</th>\n",
       "      <th>chrom</th>\n",
       "    </tr>\n",
       "  </thead>\n",
       "  <tbody>\n",
       "    <tr>\n",
       "      <th>9</th>\n",
       "      <td>9</td>\n",
       "      <td>0.686841</td>\n",
       "      <td>0.686841</td>\n",
       "      <td>900000</td>\n",
       "      <td>1000000</td>\n",
       "      <td>10.0</td>\n",
       "      <td>1.0</td>\n",
       "      <td>A</td>\n",
       "      <td>chrX</td>\n",
       "    </tr>\n",
       "    <tr>\n",
       "      <th>13</th>\n",
       "      <td>13</td>\n",
       "      <td>0.779009</td>\n",
       "      <td>7.790087</td>\n",
       "      <td>1300000</td>\n",
       "      <td>2300000</td>\n",
       "      <td>14.0</td>\n",
       "      <td>1.0</td>\n",
       "      <td>A</td>\n",
       "      <td>chrX</td>\n",
       "    </tr>\n",
       "    <tr>\n",
       "      <th>15</th>\n",
       "      <td>15</td>\n",
       "      <td>-0.410198</td>\n",
       "      <td>-29.944471</td>\n",
       "      <td>2400000</td>\n",
       "      <td>9700000</td>\n",
       "      <td>16.0</td>\n",
       "      <td>-1.0</td>\n",
       "      <td>B</td>\n",
       "      <td>chrX</td>\n",
       "    </tr>\n",
       "    <tr>\n",
       "      <th>16</th>\n",
       "      <td>16</td>\n",
       "      <td>0.044230</td>\n",
       "      <td>0.132690</td>\n",
       "      <td>9700000</td>\n",
       "      <td>10000000</td>\n",
       "      <td>17.0</td>\n",
       "      <td>1.0</td>\n",
       "      <td>A</td>\n",
       "      <td>chrX</td>\n",
       "    </tr>\n",
       "    <tr>\n",
       "      <th>17</th>\n",
       "      <td>17</td>\n",
       "      <td>-0.283227</td>\n",
       "      <td>-0.283227</td>\n",
       "      <td>10000000</td>\n",
       "      <td>10100000</td>\n",
       "      <td>18.0</td>\n",
       "      <td>-1.0</td>\n",
       "      <td>B</td>\n",
       "      <td>chrX</td>\n",
       "    </tr>\n",
       "    <tr>\n",
       "      <th>...</th>\n",
       "      <td>...</td>\n",
       "      <td>...</td>\n",
       "      <td>...</td>\n",
       "      <td>...</td>\n",
       "      <td>...</td>\n",
       "      <td>...</td>\n",
       "      <td>...</td>\n",
       "      <td>...</td>\n",
       "      <td>...</td>\n",
       "    </tr>\n",
       "    <tr>\n",
       "      <th>295</th>\n",
       "      <td>295</td>\n",
       "      <td>0.408386</td>\n",
       "      <td>2.450317</td>\n",
       "      <td>150700000</td>\n",
       "      <td>151300000</td>\n",
       "      <td>296.0</td>\n",
       "      <td>1.0</td>\n",
       "      <td>A</td>\n",
       "      <td>chrX</td>\n",
       "    </tr>\n",
       "    <tr>\n",
       "      <th>298</th>\n",
       "      <td>298</td>\n",
       "      <td>0.810029</td>\n",
       "      <td>0.810029</td>\n",
       "      <td>151500000</td>\n",
       "      <td>151600000</td>\n",
       "      <td>299.0</td>\n",
       "      <td>1.0</td>\n",
       "      <td>A</td>\n",
       "      <td>chrX</td>\n",
       "    </tr>\n",
       "    <tr>\n",
       "      <th>300</th>\n",
       "      <td>300</td>\n",
       "      <td>1.114724</td>\n",
       "      <td>2.229447</td>\n",
       "      <td>151700000</td>\n",
       "      <td>151900000</td>\n",
       "      <td>301.0</td>\n",
       "      <td>1.0</td>\n",
       "      <td>A</td>\n",
       "      <td>chrX</td>\n",
       "    </tr>\n",
       "    <tr>\n",
       "      <th>307</th>\n",
       "      <td>307</td>\n",
       "      <td>-0.826508</td>\n",
       "      <td>-2.479525</td>\n",
       "      <td>152500000</td>\n",
       "      <td>152800000</td>\n",
       "      <td>308.0</td>\n",
       "      <td>-1.0</td>\n",
       "      <td>B</td>\n",
       "      <td>chrX</td>\n",
       "    </tr>\n",
       "    <tr>\n",
       "      <th>309</th>\n",
       "      <td>309</td>\n",
       "      <td>-0.668737</td>\n",
       "      <td>-2.674950</td>\n",
       "      <td>152900000</td>\n",
       "      <td>153300000</td>\n",
       "      <td>310.0</td>\n",
       "      <td>-1.0</td>\n",
       "      <td>B</td>\n",
       "      <td>chrX</td>\n",
       "    </tr>\n",
       "  </tbody>\n",
       "</table>\n",
       "<p>174 rows × 9 columns</p>\n",
       "</div>"
      ],
      "text/plain": [
       "     index   e1_mean     e1_sum      start        end  segment_id  sign comp  \\\n",
       "9        9  0.686841   0.686841     900000    1000000        10.0   1.0    A   \n",
       "13      13  0.779009   7.790087    1300000    2300000        14.0   1.0    A   \n",
       "15      15 -0.410198 -29.944471    2400000    9700000        16.0  -1.0    B   \n",
       "16      16  0.044230   0.132690    9700000   10000000        17.0   1.0    A   \n",
       "17      17 -0.283227  -0.283227   10000000   10100000        18.0  -1.0    B   \n",
       "..     ...       ...        ...        ...        ...         ...   ...  ...   \n",
       "295    295  0.408386   2.450317  150700000  151300000       296.0   1.0    A   \n",
       "298    298  0.810029   0.810029  151500000  151600000       299.0   1.0    A   \n",
       "300    300  1.114724   2.229447  151700000  151900000       301.0   1.0    A   \n",
       "307    307 -0.826508  -2.479525  152500000  152800000       308.0  -1.0    B   \n",
       "309    309 -0.668737  -2.674950  152900000  153300000       310.0  -1.0    B   \n",
       "\n",
       "    chrom  \n",
       "9    chrX  \n",
       "13   chrX  \n",
       "15   chrX  \n",
       "16   chrX  \n",
       "17   chrX  \n",
       "..    ...  \n",
       "295  chrX  \n",
       "298  chrX  \n",
       "300  chrX  \n",
       "307  chrX  \n",
       "309  chrX  \n",
       "\n",
       "[174 rows x 9 columns]"
      ]
     },
     "execution_count": 154,
     "metadata": {},
     "output_type": "execute_result"
    }
   ],
   "source": [
    "edges_comps"
   ]
  },
  {
   "cell_type": "code",
   "execution_count": null,
   "id": "bf750bb4",
   "metadata": {},
   "outputs": [
    {
     "data": {
      "text/html": [
       "<div>\n",
       "<style scoped>\n",
       "    .dataframe tbody tr th:only-of-type {\n",
       "        vertical-align: middle;\n",
       "    }\n",
       "\n",
       "    .dataframe tbody tr th {\n",
       "        vertical-align: top;\n",
       "    }\n",
       "\n",
       "    .dataframe thead th {\n",
       "        text-align: right;\n",
       "    }\n",
       "</style>\n",
       "<table border=\"1\" class=\"dataframe\">\n",
       "  <thead>\n",
       "    <tr style=\"text-align: right;\">\n",
       "      <th></th>\n",
       "      <th>start</th>\n",
       "      <th>end</th>\n",
       "      <th>chrom</th>\n",
       "    </tr>\n",
       "  </thead>\n",
       "  <tbody>\n",
       "    <tr>\n",
       "      <th>0</th>\n",
       "      <td>9700000.0</td>\n",
       "      <td>9700001.0</td>\n",
       "      <td>chrX</td>\n",
       "    </tr>\n",
       "    <tr>\n",
       "      <th>1</th>\n",
       "      <td>10000000.0</td>\n",
       "      <td>10000001.0</td>\n",
       "      <td>chrX</td>\n",
       "    </tr>\n",
       "    <tr>\n",
       "      <th>2</th>\n",
       "      <td>10100000.0</td>\n",
       "      <td>10100001.0</td>\n",
       "      <td>chrX</td>\n",
       "    </tr>\n",
       "    <tr>\n",
       "      <th>3</th>\n",
       "      <td>10200000.0</td>\n",
       "      <td>10200001.0</td>\n",
       "      <td>chrX</td>\n",
       "    </tr>\n",
       "    <tr>\n",
       "      <th>4</th>\n",
       "      <td>10400000.0</td>\n",
       "      <td>10400001.0</td>\n",
       "      <td>chrX</td>\n",
       "    </tr>\n",
       "    <tr>\n",
       "      <th>...</th>\n",
       "      <td>...</td>\n",
       "      <td>...</td>\n",
       "      <td>...</td>\n",
       "    </tr>\n",
       "    <tr>\n",
       "      <th>114</th>\n",
       "      <td>145600000.0</td>\n",
       "      <td>145600001.0</td>\n",
       "      <td>chrX</td>\n",
       "    </tr>\n",
       "    <tr>\n",
       "      <th>115</th>\n",
       "      <td>148300000.0</td>\n",
       "      <td>148300001.0</td>\n",
       "      <td>chrX</td>\n",
       "    </tr>\n",
       "    <tr>\n",
       "      <th>116</th>\n",
       "      <td>148500000.0</td>\n",
       "      <td>148500001.0</td>\n",
       "      <td>chrX</td>\n",
       "    </tr>\n",
       "    <tr>\n",
       "      <th>117</th>\n",
       "      <td>150700000.0</td>\n",
       "      <td>150700001.0</td>\n",
       "      <td>chrX</td>\n",
       "    </tr>\n",
       "    <tr>\n",
       "      <th>118</th>\n",
       "      <td>NaN</td>\n",
       "      <td>NaN</td>\n",
       "      <td>chrX</td>\n",
       "    </tr>\n",
       "  </tbody>\n",
       "</table>\n",
       "<p>119 rows × 3 columns</p>\n",
       "</div>"
      ],
      "text/plain": [
       "           start          end chrom\n",
       "0      9700000.0    9700001.0  chrX\n",
       "1     10000000.0   10000001.0  chrX\n",
       "2     10100000.0   10100001.0  chrX\n",
       "3     10200000.0   10200001.0  chrX\n",
       "4     10400000.0   10400001.0  chrX\n",
       "..           ...          ...   ...\n",
       "114  145600000.0  145600001.0  chrX\n",
       "115  148300000.0  148300001.0  chrX\n",
       "116  148500000.0  148500001.0  chrX\n",
       "117  150700000.0  150700001.0  chrX\n",
       "118          NaN          NaN  chrX\n",
       "\n",
       "[119 rows x 3 columns]"
      ]
     },
     "execution_count": 153,
     "metadata": {},
     "output_type": "execute_result"
    }
   ],
   "source": [
    "## kan bruges til at sætte interval rundt om kanten fx(1,10,100000)\n",
    "eigen_interval = edge_segments(eigen_edges, 1)\n",
    "eigen_interval"
   ]
  },
  {
   "cell_type": "markdown",
   "id": "97e1688f",
   "metadata": {},
   "source": [
    "# remapping with eigen tracks"
   ]
  },
  {
   "cell_type": "code",
   "execution_count": 169,
   "id": "a341af57",
   "metadata": {},
   "outputs": [
    {
     "name": "stdout",
     "output_type": "stream",
     "text": [
      "  chrom       start         end\n",
      "0  chrX   9700000.0   9700001.0\n",
      "1  chrX  10000000.0  10000001.0\n",
      "2  chrX  10100000.0  10100001.0\n",
      "3  chrX  10200000.0  10200001.0\n",
      "4  chrX  10400000.0  10400001.0\n",
      "       chrom  start    end\n",
      "525131  chrX   2386   3360\n",
      "525132  chrX  17185  17670\n",
      "525133  chrX  22442  23286\n",
      "525134  chrX  50036  50706\n",
      "525135  chrX  60297  62034\n",
      "   start  end chrom  start_orig  end_orig  mid  absmid\n",
      "0   -0.0 -0.0  chrX      805308    805520 -0.0     0.0\n",
      "1   -0.0 -0.0  chrX      823469    823608 -0.0     0.0\n",
      "2   -0.0 -0.0  chrX      826230    826721 -0.0     0.0\n",
      "3   -0.0 -0.0  chrX      832268    833492 -0.0     0.0\n",
      "4   -0.0 -0.0  chrX      842705    842917 -0.0     0.0\n",
      "[-0.          0.02188007  0.03717012 ... -0.02795514 -0.01016005\n",
      " -0.00686503]\n"
     ]
    }
   ],
   "source": [
    "df_comp = eigen_interval[['chrom', 'start', 'end']].copy()\n",
    "df_rep = repeats[repeats['chrom'] == 'chrX'][['chrom', 'chromStart', 'chromEnd']].rename(\n",
    "    columns={'chromStart': 'start', 'chromEnd': 'end'}\n",
    ")\n",
    "print(df_comp.head())\n",
    "print(df_rep.head())\n",
    "\n",
    "# Calculate distances between compartments and repeats\n",
    "resultsv4 = remap_interval_data(df_rep_filtered,df_comp,relative=True)\n",
    "resultsv4[\"mid\"]=(resultsv4[\"start\"] + resultsv4[\"end\"] ) / 2\n",
    "resultsv4[\"absmid\"] = resultsv4[\"mid\"].abs()\n",
    "\n",
    "print(resultsv4.head())\n",
    "print(resultsv4[\"start\"].unique())"
   ]
  },
  {
   "cell_type": "code",
   "execution_count": null,
   "id": "3057d0c7",
   "metadata": {},
   "outputs": [
    {
     "data": {
      "text/plain": [
       "<Axes: xlabel='start', ylabel='Count'>"
      ]
     },
     "execution_count": 170,
     "metadata": {},
     "output_type": "execute_result"
    },
    {
     "data": {
      "image/png": "[encoded data removed]",
      "text/plain": [
       "<Figure size 640x480 with 1 Axes>"
      ]
     },
     "metadata": {},
     "output_type": "display_data"
    }
   ],
   "source": [
    "#uniform fordeling af data til at plotte op imod\n",
    "n = 1000\n",
    "a = np.sort(np.random.randint(1, 10_000_000, size=n))\n",
    "annot = pd.DataFrame(dict(chrom='chrX', start=a, end=a+10))\n",
    "q = np.sort(np.random.randint(1, 10_000_000, size=n))\n",
    "query = pd.DataFrame(dict(chrom='chrX', start=q, end=q+10))\n",
    "dfv3 = remap_interval_data(query, annot, relative=True)\n",
    "dfv3['mid'] = (df1.start + df1.end) / 2\n",
    "dfv3['absmid'] = df1.mid.abs()\n",
    "\n",
    "sns.histplot(dfv3, x='start', bins=np.linspace(-0.5, 0.5, 20))\n",
    "sns.histplot(resultsv4, x='start', bins=np.linspace(-0.5, 0.5, 20))\n"
   ]
  },
  {
   "cell_type": "markdown",
   "id": "4c4af5c6",
   "metadata": {},
   "source": [
    "i think that 0.0 is wroung because the values that previus where NA is know 0.0"
   ]
  },
  {
   "cell_type": "code",
   "execution_count": 171,
   "id": "5a3464cb",
   "metadata": {},
   "outputs": [
    {
     "data": {
      "text/plain": [
       "<Axes: xlabel='mid', ylabel='Count'>"
      ]
     },
     "execution_count": 171,
     "metadata": {},
     "output_type": "execute_result"
    },
    {
     "data": {
      "image/png": "[encoded data removed]",
      "text/plain": [
       "<Figure size 640x480 with 1 Axes>"
      ]
     },
     "metadata": {},
     "output_type": "display_data"
    }
   ],
   "source": [
    "sns.histplot(dfv3, x='mid', bins=np.linspace(-0.5, 0.5, 20))\n",
    "sns.histplot(resultsv4, x='mid', bins=np.linspace(-0.5, 0.5, 20))"
   ]
  },
  {
   "cell_type": "code",
   "execution_count": 172,
   "id": "62088364",
   "metadata": {},
   "outputs": [
    {
     "data": {
      "text/plain": [
       "<Axes: xlabel='absmid', ylabel='Count'>"
      ]
     },
     "execution_count": 172,
     "metadata": {},
     "output_type": "execute_result"
    },
    {
     "data": {
      "image/png": "[encoded data removed]",
      "text/plain": [
       "<Figure size 640x480 with 1 Axes>"
      ]
     },
     "metadata": {},
     "output_type": "display_data"
    }
   ],
   "source": [
    "sns.histplot(dfv3, x='absmid', bins=np.linspace(-0.5, 0.5, 20))\n",
    "sns.histplot(resultsv4, x='absmid', bins=np.linspace(-0.5, 0.5, 20))"
   ]
  },
  {
   "cell_type": "markdown",
   "id": "659c0428",
   "metadata": {},
   "source": [
    "### control a and b compartments"
   ]
  },
  {
   "cell_type": "code",
   "execution_count": 178,
   "id": "57e9dd7b",
   "metadata": {},
   "outputs": [
    {
     "name": "stdout",
     "output_type": "stream",
     "text": [
      "    index   e1_mean     e1_sum     start       end  segment_id  sign comp  \\\n",
      "9       9  0.686841   0.686841    900000   1000000        10.0   1.0    A   \n",
      "13     13  0.779009   7.790087   1300000   2300000        14.0   1.0    A   \n",
      "15     15 -0.410198 -29.944471   2400000   9700000        16.0  -1.0    B   \n",
      "16     16  0.044230   0.132690   9700000  10000000        17.0   1.0    A   \n",
      "17     17 -0.283227  -0.283227  10000000  10100000        18.0  -1.0    B   \n",
      "\n",
      "   chrom  \n",
      "9   chrX  \n",
      "13  chrX  \n",
      "15  chrX  \n",
      "16  chrX  \n",
      "17  chrX  \n",
      "(174, 9)\n"
     ]
    },
    {
     "data": {
      "text/html": [
       "<div>\n",
       "<style scoped>\n",
       "    .dataframe tbody tr th:only-of-type {\n",
       "        vertical-align: middle;\n",
       "    }\n",
       "\n",
       "    .dataframe tbody tr th {\n",
       "        vertical-align: top;\n",
       "    }\n",
       "\n",
       "    .dataframe thead th {\n",
       "        text-align: right;\n",
       "    }\n",
       "</style>\n",
       "<table border=\"1\" class=\"dataframe\">\n",
       "  <thead>\n",
       "    <tr style=\"text-align: right;\">\n",
       "      <th></th>\n",
       "      <th>start</th>\n",
       "      <th>end</th>\n",
       "      <th>chrom</th>\n",
       "    </tr>\n",
       "  </thead>\n",
       "  <tbody>\n",
       "    <tr>\n",
       "      <th>0</th>\n",
       "      <td>9700000.0</td>\n",
       "      <td>9700001.0</td>\n",
       "      <td>chrX</td>\n",
       "    </tr>\n",
       "    <tr>\n",
       "      <th>1</th>\n",
       "      <td>10000000.0</td>\n",
       "      <td>10000001.0</td>\n",
       "      <td>chrX</td>\n",
       "    </tr>\n",
       "    <tr>\n",
       "      <th>2</th>\n",
       "      <td>10100000.0</td>\n",
       "      <td>10100001.0</td>\n",
       "      <td>chrX</td>\n",
       "    </tr>\n",
       "    <tr>\n",
       "      <th>3</th>\n",
       "      <td>10200000.0</td>\n",
       "      <td>10200001.0</td>\n",
       "      <td>chrX</td>\n",
       "    </tr>\n",
       "    <tr>\n",
       "      <th>4</th>\n",
       "      <td>10400000.0</td>\n",
       "      <td>10400001.0</td>\n",
       "      <td>chrX</td>\n",
       "    </tr>\n",
       "    <tr>\n",
       "      <th>...</th>\n",
       "      <td>...</td>\n",
       "      <td>...</td>\n",
       "      <td>...</td>\n",
       "    </tr>\n",
       "    <tr>\n",
       "      <th>114</th>\n",
       "      <td>145600000.0</td>\n",
       "      <td>145600001.0</td>\n",
       "      <td>chrX</td>\n",
       "    </tr>\n",
       "    <tr>\n",
       "      <th>115</th>\n",
       "      <td>148300000.0</td>\n",
       "      <td>148300001.0</td>\n",
       "      <td>chrX</td>\n",
       "    </tr>\n",
       "    <tr>\n",
       "      <th>116</th>\n",
       "      <td>148500000.0</td>\n",
       "      <td>148500001.0</td>\n",
       "      <td>chrX</td>\n",
       "    </tr>\n",
       "    <tr>\n",
       "      <th>117</th>\n",
       "      <td>150700000.0</td>\n",
       "      <td>150700001.0</td>\n",
       "      <td>chrX</td>\n",
       "    </tr>\n",
       "    <tr>\n",
       "      <th>118</th>\n",
       "      <td>NaN</td>\n",
       "      <td>NaN</td>\n",
       "      <td>chrX</td>\n",
       "    </tr>\n",
       "  </tbody>\n",
       "</table>\n",
       "<p>119 rows × 3 columns</p>\n",
       "</div>"
      ],
      "text/plain": [
       "           start          end chrom\n",
       "0      9700000.0    9700001.0  chrX\n",
       "1     10000000.0   10000001.0  chrX\n",
       "2     10100000.0   10100001.0  chrX\n",
       "3     10200000.0   10200001.0  chrX\n",
       "4     10400000.0   10400001.0  chrX\n",
       "..           ...          ...   ...\n",
       "114  145600000.0  145600001.0  chrX\n",
       "115  148300000.0  148300001.0  chrX\n",
       "116  148500000.0  148500001.0  chrX\n",
       "117  150700000.0  150700001.0  chrX\n",
       "118          NaN          NaN  chrX\n",
       "\n",
       "[119 rows x 3 columns]"
      ]
     },
     "execution_count": 178,
     "metadata": {},
     "output_type": "execute_result"
    }
   ],
   "source": [
    "print(edges_comps.head())\n",
    "print(edges_comps.shape)\n",
    "eigen_interval"
   ]
  },
  {
   "cell_type": "markdown",
   "id": "b5ae17c7",
   "metadata": {},
   "source": [
    "### simple repeats remapping"
   ]
  },
  {
   "cell_type": "code",
   "execution_count": 192,
   "id": "93ce8746",
   "metadata": {},
   "outputs": [
    {
     "data": {
      "text/html": [
       "<div>\n",
       "<style scoped>\n",
       "    .dataframe tbody tr th:only-of-type {\n",
       "        vertical-align: middle;\n",
       "    }\n",
       "\n",
       "    .dataframe tbody tr th {\n",
       "        vertical-align: top;\n",
       "    }\n",
       "\n",
       "    .dataframe thead th {\n",
       "        text-align: right;\n",
       "    }\n",
       "</style>\n",
       "<table border=\"1\" class=\"dataframe\">\n",
       "  <thead>\n",
       "    <tr style=\"text-align: right;\">\n",
       "      <th></th>\n",
       "      <th>bin</th>\n",
       "      <th>chrom</th>\n",
       "      <th>chromStart</th>\n",
       "      <th>chromEnd</th>\n",
       "      <th>name</th>\n",
       "      <th>score</th>\n",
       "      <th>strand</th>\n",
       "      <th>thickStart</th>\n",
       "      <th>thickEnd</th>\n",
       "      <th>reserved</th>\n",
       "      <th>blockCount</th>\n",
       "      <th>blockSizes</th>\n",
       "      <th>chromStarts</th>\n",
       "      <th>strandRep</th>\n",
       "      <th>repLeft</th>\n",
       "      <th>repClass</th>\n",
       "      <th>repFamily</th>\n",
       "    </tr>\n",
       "  </thead>\n",
       "  <tbody>\n",
       "    <tr>\n",
       "      <th>935331</th>\n",
       "      <td>585</td>\n",
       "      <td>chrX</td>\n",
       "      <td>1329</td>\n",
       "      <td>1368</td>\n",
       "      <td>trf</td>\n",
       "      <td>20</td>\n",
       "      <td>1.9</td>\n",
       "      <td>20</td>\n",
       "      <td>89</td>\n",
       "      <td>5</td>\n",
       "      <td>60</td>\n",
       "      <td>79</td>\n",
       "      <td>0</td>\n",
       "      <td>15</td>\n",
       "      <td>5</td>\n",
       "      <td>0.90</td>\n",
       "      <td>AAAAAAAAGAAAAGAAAATT</td>\n",
       "    </tr>\n",
       "    <tr>\n",
       "      <th>935332</th>\n",
       "      <td>585</td>\n",
       "      <td>chrX</td>\n",
       "      <td>4721</td>\n",
       "      <td>4765</td>\n",
       "      <td>trf</td>\n",
       "      <td>16</td>\n",
       "      <td>2.8</td>\n",
       "      <td>16</td>\n",
       "      <td>78</td>\n",
       "      <td>0</td>\n",
       "      <td>52</td>\n",
       "      <td>22</td>\n",
       "      <td>54</td>\n",
       "      <td>2</td>\n",
       "      <td>20</td>\n",
       "      <td>1.56</td>\n",
       "      <td>TCATCCACCCACCCAT</td>\n",
       "    </tr>\n",
       "    <tr>\n",
       "      <th>935333</th>\n",
       "      <td>585</td>\n",
       "      <td>chrX</td>\n",
       "      <td>4722</td>\n",
       "      <td>5839</td>\n",
       "      <td>trf</td>\n",
       "      <td>354</td>\n",
       "      <td>3.1</td>\n",
       "      <td>361</td>\n",
       "      <td>87</td>\n",
       "      <td>4</td>\n",
       "      <td>1532</td>\n",
       "      <td>23</td>\n",
       "      <td>43</td>\n",
       "      <td>2</td>\n",
       "      <td>30</td>\n",
       "      <td>1.66</td>\n",
       "      <td>CATCCACCCACCCATCCACCCACTCACCCATCCATCCACCCACTCA...</td>\n",
       "    </tr>\n",
       "    <tr>\n",
       "      <th>935334</th>\n",
       "      <td>585</td>\n",
       "      <td>chrX</td>\n",
       "      <td>4767</td>\n",
       "      <td>4806</td>\n",
       "      <td>trf</td>\n",
       "      <td>20</td>\n",
       "      <td>2.0</td>\n",
       "      <td>20</td>\n",
       "      <td>89</td>\n",
       "      <td>0</td>\n",
       "      <td>60</td>\n",
       "      <td>23</td>\n",
       "      <td>38</td>\n",
       "      <td>2</td>\n",
       "      <td>35</td>\n",
       "      <td>1.68</td>\n",
       "      <td>ACCCATCTATCCATCTATCT</td>\n",
       "    </tr>\n",
       "    <tr>\n",
       "      <th>935335</th>\n",
       "      <td>585</td>\n",
       "      <td>chrX</td>\n",
       "      <td>4783</td>\n",
       "      <td>4826</td>\n",
       "      <td>trf</td>\n",
       "      <td>16</td>\n",
       "      <td>2.7</td>\n",
       "      <td>16</td>\n",
       "      <td>92</td>\n",
       "      <td>0</td>\n",
       "      <td>68</td>\n",
       "      <td>25</td>\n",
       "      <td>41</td>\n",
       "      <td>0</td>\n",
       "      <td>32</td>\n",
       "      <td>1.56</td>\n",
       "      <td>ATCTATCCATCTATCC</td>\n",
       "    </tr>\n",
       "    <tr>\n",
       "      <th>...</th>\n",
       "      <td>...</td>\n",
       "      <td>...</td>\n",
       "      <td>...</td>\n",
       "      <td>...</td>\n",
       "      <td>...</td>\n",
       "      <td>...</td>\n",
       "      <td>...</td>\n",
       "      <td>...</td>\n",
       "      <td>...</td>\n",
       "      <td>...</td>\n",
       "      <td>...</td>\n",
       "      <td>...</td>\n",
       "      <td>...</td>\n",
       "      <td>...</td>\n",
       "      <td>...</td>\n",
       "      <td>...</td>\n",
       "      <td>...</td>\n",
       "    </tr>\n",
       "    <tr>\n",
       "      <th>989153</th>\n",
       "      <td>1754</td>\n",
       "      <td>chrX</td>\n",
       "      <td>153293755</td>\n",
       "      <td>153310994</td>\n",
       "      <td>trf</td>\n",
       "      <td>343</td>\n",
       "      <td>50.3</td>\n",
       "      <td>342</td>\n",
       "      <td>73</td>\n",
       "      <td>8</td>\n",
       "      <td>5762</td>\n",
       "      <td>30</td>\n",
       "      <td>17</td>\n",
       "      <td>21</td>\n",
       "      <td>30</td>\n",
       "      <td>1.96</td>\n",
       "      <td>GAAAGAAGCTTTCTGAGAAACTTCTTTGTGATCTGTGAATTCATCT...</td>\n",
       "    </tr>\n",
       "    <tr>\n",
       "      <th>989154</th>\n",
       "      <td>219</td>\n",
       "      <td>chrX</td>\n",
       "      <td>153311012</td>\n",
       "      <td>153388913</td>\n",
       "      <td>trf</td>\n",
       "      <td>343</td>\n",
       "      <td>227.9</td>\n",
       "      <td>335</td>\n",
       "      <td>81</td>\n",
       "      <td>7</td>\n",
       "      <td>38207</td>\n",
       "      <td>30</td>\n",
       "      <td>21</td>\n",
       "      <td>17</td>\n",
       "      <td>30</td>\n",
       "      <td>1.96</td>\n",
       "      <td>TGTAACTCAGTGAGTGGAAGTCACAGATCACAAAGCAGTTTCTCAG...</td>\n",
       "    </tr>\n",
       "    <tr>\n",
       "      <th>989155</th>\n",
       "      <td>219</td>\n",
       "      <td>chrX</td>\n",
       "      <td>153311012</td>\n",
       "      <td>153388880</td>\n",
       "      <td>trf</td>\n",
       "      <td>171</td>\n",
       "      <td>454.5</td>\n",
       "      <td>171</td>\n",
       "      <td>70</td>\n",
       "      <td>11</td>\n",
       "      <td>39213</td>\n",
       "      <td>30</td>\n",
       "      <td>21</td>\n",
       "      <td>17</td>\n",
       "      <td>30</td>\n",
       "      <td>1.96</td>\n",
       "      <td>TGTAACTCTGTGAGATGAATTCACAGATCACAAAGCAGTTTCTCAG...</td>\n",
       "    </tr>\n",
       "    <tr>\n",
       "      <th>989156</th>\n",
       "      <td>219</td>\n",
       "      <td>chrX</td>\n",
       "      <td>153311734</td>\n",
       "      <td>153388924</td>\n",
       "      <td>trf</td>\n",
       "      <td>514</td>\n",
       "      <td>150.5</td>\n",
       "      <td>512</td>\n",
       "      <td>72</td>\n",
       "      <td>11</td>\n",
       "      <td>24543</td>\n",
       "      <td>30</td>\n",
       "      <td>21</td>\n",
       "      <td>17</td>\n",
       "      <td>30</td>\n",
       "      <td>1.96</td>\n",
       "      <td>AGTTTCTCAGAAAGCTTCCTTCCAGTTTTTATCTGAGAATATTTTC...</td>\n",
       "    </tr>\n",
       "    <tr>\n",
       "      <th>989157</th>\n",
       "      <td>1755</td>\n",
       "      <td>chrX</td>\n",
       "      <td>153360625</td>\n",
       "      <td>153388924</td>\n",
       "      <td>trf</td>\n",
       "      <td>342</td>\n",
       "      <td>82.9</td>\n",
       "      <td>343</td>\n",
       "      <td>94</td>\n",
       "      <td>2</td>\n",
       "      <td>45568</td>\n",
       "      <td>30</td>\n",
       "      <td>21</td>\n",
       "      <td>18</td>\n",
       "      <td>30</td>\n",
       "      <td>1.97</td>\n",
       "      <td>TAACTCTGTGAGATGAATTAACAGAACACTAAGCAGTTTCTCAGAA...</td>\n",
       "    </tr>\n",
       "  </tbody>\n",
       "</table>\n",
       "<p>53827 rows × 17 columns</p>\n",
       "</div>"
      ],
      "text/plain": [
       "         bin chrom  chromStart   chromEnd name  score  strand  thickStart  \\\n",
       "935331   585  chrX        1329       1368  trf     20     1.9          20   \n",
       "935332   585  chrX        4721       4765  trf     16     2.8          16   \n",
       "935333   585  chrX        4722       5839  trf    354     3.1         361   \n",
       "935334   585  chrX        4767       4806  trf     20     2.0          20   \n",
       "935335   585  chrX        4783       4826  trf     16     2.7          16   \n",
       "...      ...   ...         ...        ...  ...    ...     ...         ...   \n",
       "989153  1754  chrX   153293755  153310994  trf    343    50.3         342   \n",
       "989154   219  chrX   153311012  153388913  trf    343   227.9         335   \n",
       "989155   219  chrX   153311012  153388880  trf    171   454.5         171   \n",
       "989156   219  chrX   153311734  153388924  trf    514   150.5         512   \n",
       "989157  1755  chrX   153360625  153388924  trf    342    82.9         343   \n",
       "\n",
       "        thickEnd  reserved  blockCount  blockSizes  chromStarts  strandRep  \\\n",
       "935331        89         5          60          79            0         15   \n",
       "935332        78         0          52          22           54          2   \n",
       "935333        87         4        1532          23           43          2   \n",
       "935334        89         0          60          23           38          2   \n",
       "935335        92         0          68          25           41          0   \n",
       "...          ...       ...         ...         ...          ...        ...   \n",
       "989153        73         8        5762          30           17         21   \n",
       "989154        81         7       38207          30           21         17   \n",
       "989155        70        11       39213          30           21         17   \n",
       "989156        72        11       24543          30           21         17   \n",
       "989157        94         2       45568          30           21         18   \n",
       "\n",
       "        repLeft  repClass                                          repFamily  \n",
       "935331        5      0.90                               AAAAAAAAGAAAAGAAAATT  \n",
       "935332       20      1.56                                   TCATCCACCCACCCAT  \n",
       "935333       30      1.66  CATCCACCCACCCATCCACCCACTCACCCATCCATCCACCCACTCA...  \n",
       "935334       35      1.68                               ACCCATCTATCCATCTATCT  \n",
       "935335       32      1.56                                   ATCTATCCATCTATCC  \n",
       "...         ...       ...                                                ...  \n",
       "989153       30      1.96  GAAAGAAGCTTTCTGAGAAACTTCTTTGTGATCTGTGAATTCATCT...  \n",
       "989154       30      1.96  TGTAACTCAGTGAGTGGAAGTCACAGATCACAAAGCAGTTTCTCAG...  \n",
       "989155       30      1.96  TGTAACTCTGTGAGATGAATTCACAGATCACAAAGCAGTTTCTCAG...  \n",
       "989156       30      1.96  AGTTTCTCAGAAAGCTTCCTTCCAGTTTTTATCTGAGAATATTTTC...  \n",
       "989157       30      1.97  TAACTCTGTGAGATGAATTAACAGAACACTAAGCAGTTTCTCAGAA...  \n",
       "\n",
       "[53827 rows x 17 columns]"
      ]
     },
     "execution_count": 192,
     "metadata": {},
     "output_type": "execute_result"
    }
   ],
   "source": [
    "simple_repeats =pd.read_csv(\"../data/simpleRepeat.txt\", sep='\\t', header=None, names=columns)\n",
    "simple_repeats = simple_repeats[simple_repeats['chrom'] == 'chrX']\n",
    "simple_repeats"
   ]
  },
  {
   "cell_type": "code",
   "execution_count": 185,
   "id": "05965c2e",
   "metadata": {},
   "outputs": [
    {
     "data": {
      "text/plain": [
       "array(['trf'], dtype=object)"
      ]
     },
     "execution_count": 185,
     "metadata": {},
     "output_type": "execute_result"
    }
   ],
   "source": [
    "simple_repeats['name'].unique()"
   ]
  },
  {
   "cell_type": "code",
   "execution_count": 191,
   "id": "daba6e54",
   "metadata": {},
   "outputs": [
    {
     "name": "stdout",
     "output_type": "stream",
     "text": [
      "Index(['chrom', 'start', 'end'], dtype='object')\n"
     ]
    }
   ],
   "source": [
    "print(simple_repeats.columns)"
   ]
  },
  {
   "cell_type": "code",
   "execution_count": 202,
   "id": "d39f7954",
   "metadata": {},
   "outputs": [
    {
     "name": "stdout",
     "output_type": "stream",
     "text": [
      "  chrom       start         end\n",
      "0  chrX   9700000.0   9700001.0\n",
      "1  chrX  10000000.0  10000001.0\n",
      "2  chrX  10100000.0  10100001.0\n",
      "3  chrX  10200000.0  10200001.0\n",
      "4  chrX  10400000.0  10400001.0\n",
      "       chrom  start   end\n",
      "935331  chrX   1329  1368\n",
      "935332  chrX   4721  4765\n",
      "935333  chrX   4722  5839\n",
      "935334  chrX   4767  4806\n",
      "935335  chrX   4783  4826\n"
     ]
    },
    {
     "name": "stdout",
     "output_type": "stream",
     "text": [
      "   start  end chrom  start_orig  end_orig  mid  absmid\n",
      "0    NaN  NaN  chrX        1329      1368  NaN     NaN\n",
      "1    NaN  NaN  chrX        4721      4765  NaN     NaN\n",
      "2    NaN  NaN  chrX        4722      5839  NaN     NaN\n",
      "3    NaN  NaN  chrX        4767      4806  NaN     NaN\n",
      "4    NaN  NaN  chrX        4783      4826  NaN     NaN\n",
      "[        nan  0.02462675  0.02472342 ... -0.09899549 -0.0398402\n",
      " -0.03801019]\n"
     ]
    }
   ],
   "source": [
    "df_simple_repeats = simple_repeats[['chrom', 'chromStart', 'chromEnd']].rename(\n",
    "    columns={'chromStart': 'start', 'chromEnd': 'end'}\n",
    ")\n",
    "\n",
    "\n",
    "print(df_comp.head())\n",
    "print(df_simple_repeats.head())\n",
    "\n",
    "# Calculate distances between compartments and repeats\n",
    "results_simple_repeat = remap_interval_data( df_simple_repeats,df_comp,relative=True)\n",
    "results_simple_repeat[\"mid\"]=(results_simple_repeat[\"start\"] + results_simple_repeat[\"end\"] ) / 2\n",
    "results_simple_repeat[\"absmid\"] = results_simple_repeat[\"mid\"].abs()\n",
    "# Replace -0.0 and 0.0 with np.nan in 'start'\n",
    "results_simple_repeat['start'] = results_simple_repeat['start'].replace(-0.0, np.nan)\n",
    "results_simple_repeat['start'] = results_simple_repeat['start'].replace(0.0, np.nan)\n",
    "results_simple_repeat['end'] = results_simple_repeat['end'].replace(-0.0, np.nan)\n",
    "results_simple_repeat['end'] = results_simple_repeat['end'].replace(0.0, np.nan)\n",
    "results_simple_repeat['mid'] = results_simple_repeat['mid'].replace(-0.0, np.nan)\n",
    "results_simple_repeat['mid'] = results_simple_repeat['mid'].replace(0.0, np.nan)\n",
    "results_simple_repeat['absmid'] = results_simple_repeat['absmid'].replace(-0.0, np.nan)\n",
    "results_simple_repeat['absmid'] = results_simple_repeat['absmid'].replace(0.0, np.nan)\n",
    "\n",
    "print(results_simple_repeat.head())\n",
    "print(results_simple_repeat[\"start\"].unique())"
   ]
  },
  {
   "cell_type": "code",
   "execution_count": 203,
   "id": "392e8830",
   "metadata": {},
   "outputs": [
    {
     "data": {
      "text/plain": [
       "<Axes: xlabel='start', ylabel='Count'>"
      ]
     },
     "execution_count": 203,
     "metadata": {},
     "output_type": "execute_result"
    },
    {
     "data": {
      "image/png": "[encoded data removed]",
      "text/plain": [
       "<Figure size 640x480 with 1 Axes>"
      ]
     },
     "metadata": {},
     "output_type": "display_data"
    }
   ],
   "source": [
    "#uniform fordeling af data til at plotte op imod\n",
    "n = 1000\n",
    "a = np.sort(np.random.randint(1, 10_000_000, size=n))\n",
    "annot = pd.DataFrame(dict(chrom='chrX', start=a, end=a+10))\n",
    "q = np.sort(np.random.randint(1, 10_000_000, size=n))\n",
    "query = pd.DataFrame(dict(chrom='chrX', start=q, end=q+10))\n",
    "dfv3 = remap_interval_data(query, annot, relative=True)\n",
    "dfv3['mid'] = (df1.start + df1.end) / 2\n",
    "dfv3['absmid'] = df1.mid.abs()\n",
    "\n",
    "sns.histplot(dfv3, x='start', bins=np.linspace(-0.5, 0.5, 20))\n",
    "sns.histplot(results_simple_repeat, x='start', bins=np.linspace(-0.5, 0.5, 20))"
   ]
  },
  {
   "cell_type": "code",
   "execution_count": 204,
   "id": "fcc864e2",
   "metadata": {},
   "outputs": [
    {
     "data": {
      "text/plain": [
       "<Axes: xlabel='mid', ylabel='Count'>"
      ]
     },
     "execution_count": 204,
     "metadata": {},
     "output_type": "execute_result"
    },
    {
     "data": {
      "image/png": "[encoded data removed]",
      "text/plain": [
       "<Figure size 640x480 with 1 Axes>"
      ]
     },
     "metadata": {},
     "output_type": "display_data"
    }
   ],
   "source": [
    "sns.histplot(dfv3, x='mid', bins=np.linspace(-0.5, 0.5, 20))\n",
    "sns.histplot(results_simple_repeat, x='mid', bins=np.linspace(-0.5, 0.5, 20))"
   ]
  },
  {
   "cell_type": "code",
   "execution_count": 205,
   "id": "858e51b8",
   "metadata": {},
   "outputs": [
    {
     "data": {
      "text/plain": [
       "<Axes: xlabel='absmid', ylabel='Count'>"
      ]
     },
     "execution_count": 205,
     "metadata": {},
     "output_type": "execute_result"
    },
    {
     "data": {
      "image/png": "[encoded data removed]",
      "text/plain": [
       "<Figure size 640x480 with 1 Axes>"
      ]
     },
     "metadata": {},
     "output_type": "display_data"
    }
   ],
   "source": [
    "sns.histplot(dfv3, x='absmid', bins=np.linspace(-0.5, 0.5, 20))\n",
    "sns.histplot(results_simple_repeat, x='absmid', bins=np.linspace(-0.5, 0.5, 20))"
   ]
  }
 ],
 "metadata": {
  "kernelspec": {
   "display_name": "GPN",
   "language": "python",
   "name": "python3"
  },
  "language_info": {
   "codemirror_mode": {
    "name": "ipython",
    "version": 3
   },
   "file_extension": ".py",
   "mimetype": "text/x-python",
   "name": "python",
   "nbconvert_exporter": "python",
   "pygments_lexer": "ipython3",
   "version": "3.12.8"
  }
 },
 "nbformat": 4,
 "nbformat_minor": 5
}
