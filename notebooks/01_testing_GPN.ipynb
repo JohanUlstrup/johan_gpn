{
 "cells": [
  {
   "cell_type": "markdown",
   "id": "ffc29496-aa03-4c66-b7c4-d35579e8dd35",
   "metadata": {},
   "source": [
    "### installing GPN\n"
   ]
  },
  {
   "cell_type": "code",
   "execution_count": 2,
   "id": "0e622fa1-da16-4346-8b7e-8145deb6c763",
   "metadata": {},
   "outputs": [
    {
     "name": "stdout",
     "output_type": "stream",
     "text": [
      "Collecting git+https://github.com/songlab-cal/gpn.git\n",
      "  Cloning https://github.com/songlab-cal/gpn.git to /tmp/53895761/pip-req-build-j78uya37\n",
      "  Running command git clone --filter=blob:none --quiet https://github.com/songlab-cal/gpn.git /tmp/53895761/pip-req-build-j78uya37\n",
      "  Resolved https://github.com/songlab-cal/gpn.git to commit dafc3ca163e4b105a891aad8044d01840fab32e8\n",
      "  Preparing metadata (setup.py) ... \u001b[?25ldone\n",
      "\u001b[?25hRequirement already satisfied: transformers[torch] in /home/johanulstrup/miniconda3/envs/GPN/lib/python3.12/site-packages (from gpn==0.6) (4.48.2)\n",
      "Requirement already satisfied: datasets in /home/johanulstrup/miniconda3/envs/GPN/lib/python3.12/site-packages (from gpn==0.6) (3.2.0)\n",
      "Requirement already satisfied: pyarrow in /home/johanulstrup/miniconda3/envs/GPN/lib/python3.12/site-packages (from gpn==0.6) (19.0.0)\n",
      "Requirement already satisfied: pandas in /home/johanulstrup/miniconda3/envs/GPN/lib/python3.12/site-packages (from gpn==0.6) (2.2.3)\n",
      "Requirement already satisfied: numpy in /home/johanulstrup/miniconda3/envs/GPN/lib/python3.12/site-packages (from gpn==0.6) (1.26.4)\n",
      "Requirement already satisfied: torchinfo in /home/johanulstrup/miniconda3/envs/GPN/lib/python3.12/site-packages (from gpn==0.6) (1.8.0)\n",
      "Requirement already satisfied: biopython in /home/johanulstrup/miniconda3/envs/GPN/lib/python3.12/site-packages (from gpn==0.6) (1.85)\n",
      "Requirement already satisfied: wandb in /home/johanulstrup/miniconda3/envs/GPN/lib/python3.12/site-packages (from gpn==0.6) (0.19.5)\n",
      "Requirement already satisfied: einops in /home/johanulstrup/miniconda3/envs/GPN/lib/python3.12/site-packages (from gpn==0.6) (0.8.0)\n",
      "Requirement already satisfied: pandarallel in /home/johanulstrup/miniconda3/envs/GPN/lib/python3.12/site-packages (from gpn==0.6) (1.6.5)\n",
      "Requirement already satisfied: bioframe in /home/johanulstrup/miniconda3/envs/GPN/lib/python3.12/site-packages (from gpn==0.6) (0.7.2)\n",
      "Requirement already satisfied: zstandard in /home/johanulstrup/miniconda3/envs/GPN/lib/python3.12/site-packages (from gpn==0.6) (0.23.0)\n",
      "Requirement already satisfied: zarr in /home/johanulstrup/miniconda3/envs/GPN/lib/python3.12/site-packages (from gpn==0.6) (3.0.2)\n",
      "Requirement already satisfied: pyBigWig in /home/johanulstrup/miniconda3/envs/GPN/lib/python3.12/site-packages (from gpn==0.6) (0.3.24)\n",
      "Requirement already satisfied: joblib in /home/johanulstrup/miniconda3/envs/GPN/lib/python3.12/site-packages (from gpn==0.6) (1.4.2)\n",
      "Requirement already satisfied: matplotlib in /home/johanulstrup/miniconda3/envs/GPN/lib/python3.12/site-packages (from bioframe->gpn==0.6) (3.10.0)\n",
      "Requirement already satisfied: pyyaml in /home/johanulstrup/miniconda3/envs/GPN/lib/python3.12/site-packages (from bioframe->gpn==0.6) (6.0.2)\n",
      "Requirement already satisfied: requests in /home/johanulstrup/miniconda3/envs/GPN/lib/python3.12/site-packages (from bioframe->gpn==0.6) (2.32.3)\n",
      "Requirement already satisfied: python-dateutil>=2.8.2 in /home/johanulstrup/miniconda3/envs/GPN/lib/python3.12/site-packages (from pandas->gpn==0.6) (2.9.0.post0)\n",
      "Requirement already satisfied: pytz>=2020.1 in /home/johanulstrup/miniconda3/envs/GPN/lib/python3.12/site-packages (from pandas->gpn==0.6) (2025.1)\n",
      "Requirement already satisfied: tzdata>=2022.7 in /home/johanulstrup/miniconda3/envs/GPN/lib/python3.12/site-packages (from pandas->gpn==0.6) (2025.1)\n",
      "Requirement already satisfied: filelock in /home/johanulstrup/miniconda3/envs/GPN/lib/python3.12/site-packages (from datasets->gpn==0.6) (3.17.0)\n",
      "Requirement already satisfied: dill<0.3.9,>=0.3.0 in /home/johanulstrup/miniconda3/envs/GPN/lib/python3.12/site-packages (from datasets->gpn==0.6) (0.3.8)\n",
      "Requirement already satisfied: tqdm>=4.66.3 in /home/johanulstrup/miniconda3/envs/GPN/lib/python3.12/site-packages (from datasets->gpn==0.6) (4.67.1)\n",
      "Requirement already satisfied: xxhash in /home/johanulstrup/miniconda3/envs/GPN/lib/python3.12/site-packages (from datasets->gpn==0.6) (3.5.0)\n",
      "Requirement already satisfied: multiprocess<0.70.17 in /home/johanulstrup/miniconda3/envs/GPN/lib/python3.12/site-packages (from datasets->gpn==0.6) (0.70.16)\n",
      "Requirement already satisfied: fsspec<=2024.9.0,>=2023.1.0 in /home/johanulstrup/miniconda3/envs/GPN/lib/python3.12/site-packages (from fsspec[http]<=2024.9.0,>=2023.1.0->datasets->gpn==0.6) (2024.9.0)\n",
      "Requirement already satisfied: aiohttp in /home/johanulstrup/miniconda3/envs/GPN/lib/python3.12/site-packages (from datasets->gpn==0.6) (3.11.11)\n",
      "Requirement already satisfied: huggingface-hub>=0.23.0 in /home/johanulstrup/miniconda3/envs/GPN/lib/python3.12/site-packages (from datasets->gpn==0.6) (0.28.1)\n",
      "Requirement already satisfied: packaging in /home/johanulstrup/miniconda3/envs/GPN/lib/python3.12/site-packages (from datasets->gpn==0.6) (24.2)\n",
      "Requirement already satisfied: psutil in /home/johanulstrup/miniconda3/envs/GPN/lib/python3.12/site-packages (from pandarallel->gpn==0.6) (6.1.1)\n",
      "Requirement already satisfied: regex!=2019.12.17 in /home/johanulstrup/miniconda3/envs/GPN/lib/python3.12/site-packages (from transformers[torch]->gpn==0.6) (2024.11.6)\n",
      "Requirement already satisfied: tokenizers<0.22,>=0.21 in /home/johanulstrup/miniconda3/envs/GPN/lib/python3.12/site-packages (from transformers[torch]->gpn==0.6) (0.21.0)\n",
      "Requirement already satisfied: safetensors>=0.4.1 in /home/johanulstrup/miniconda3/envs/GPN/lib/python3.12/site-packages (from transformers[torch]->gpn==0.6) (0.5.2)\n",
      "Requirement already satisfied: torch>=2.0 in /home/johanulstrup/miniconda3/envs/GPN/lib/python3.12/site-packages (from transformers[torch]->gpn==0.6) (2.6.0)\n",
      "Requirement already satisfied: accelerate>=0.26.0 in /home/johanulstrup/miniconda3/envs/GPN/lib/python3.12/site-packages (from transformers[torch]->gpn==0.6) (1.3.0)\n",
      "Requirement already satisfied: click!=8.0.0,>=7.1 in /home/johanulstrup/miniconda3/envs/GPN/lib/python3.12/site-packages (from wandb->gpn==0.6) (8.1.8)\n",
      "Requirement already satisfied: docker-pycreds>=0.4.0 in /home/johanulstrup/miniconda3/envs/GPN/lib/python3.12/site-packages (from wandb->gpn==0.6) (0.4.0)\n",
      "Requirement already satisfied: gitpython!=3.1.29,>=1.0.0 in /home/johanulstrup/miniconda3/envs/GPN/lib/python3.12/site-packages (from wandb->gpn==0.6) (3.1.44)\n",
      "Requirement already satisfied: platformdirs in /home/johanulstrup/miniconda3/envs/GPN/lib/python3.12/site-packages (from wandb->gpn==0.6) (4.3.6)\n",
      "Requirement already satisfied: protobuf!=4.21.0,!=5.28.0,<6,>=3.19.0 in /home/johanulstrup/miniconda3/envs/GPN/lib/python3.12/site-packages (from wandb->gpn==0.6) (5.29.3)\n",
      "Requirement already satisfied: pydantic<3,>=2.6 in /home/johanulstrup/miniconda3/envs/GPN/lib/python3.12/site-packages (from wandb->gpn==0.6) (2.10.6)\n",
      "Requirement already satisfied: sentry-sdk>=2.0.0 in /home/johanulstrup/miniconda3/envs/GPN/lib/python3.12/site-packages (from wandb->gpn==0.6) (2.20.0)\n",
      "Requirement already satisfied: setproctitle in /home/johanulstrup/miniconda3/envs/GPN/lib/python3.12/site-packages (from wandb->gpn==0.6) (1.3.4)\n",
      "Requirement already satisfied: setuptools in /home/johanulstrup/miniconda3/envs/GPN/lib/python3.12/site-packages (from wandb->gpn==0.6) (75.8.0)\n",
      "Requirement already satisfied: donfig>=0.8 in /home/johanulstrup/miniconda3/envs/GPN/lib/python3.12/site-packages (from zarr->gpn==0.6) (0.8.1.post1)\n",
      "Requirement already satisfied: numcodecs>=0.14 in /home/johanulstrup/miniconda3/envs/GPN/lib/python3.12/site-packages (from numcodecs[crc32c]>=0.14->zarr->gpn==0.6) (0.15.0)\n",
      "Requirement already satisfied: typing-extensions>=4.9 in /home/johanulstrup/miniconda3/envs/GPN/lib/python3.12/site-packages (from zarr->gpn==0.6) (4.12.2)\n",
      "Requirement already satisfied: six>=1.4.0 in /home/johanulstrup/miniconda3/envs/GPN/lib/python3.12/site-packages (from docker-pycreds>=0.4.0->wandb->gpn==0.6) (1.17.0)\n",
      "Requirement already satisfied: aiohappyeyeballs>=2.3.0 in /home/johanulstrup/miniconda3/envs/GPN/lib/python3.12/site-packages (from aiohttp->datasets->gpn==0.6) (2.4.4)\n",
      "Requirement already satisfied: aiosignal>=1.1.2 in /home/johanulstrup/miniconda3/envs/GPN/lib/python3.12/site-packages (from aiohttp->datasets->gpn==0.6) (1.3.2)\n",
      "Requirement already satisfied: attrs>=17.3.0 in /home/johanulstrup/miniconda3/envs/GPN/lib/python3.12/site-packages (from aiohttp->datasets->gpn==0.6) (25.1.0)\n",
      "Requirement already satisfied: frozenlist>=1.1.1 in /home/johanulstrup/miniconda3/envs/GPN/lib/python3.12/site-packages (from aiohttp->datasets->gpn==0.6) (1.5.0)\n",
      "Requirement already satisfied: multidict<7.0,>=4.5 in /home/johanulstrup/miniconda3/envs/GPN/lib/python3.12/site-packages (from aiohttp->datasets->gpn==0.6) (6.1.0)\n",
      "Requirement already satisfied: propcache>=0.2.0 in /home/johanulstrup/miniconda3/envs/GPN/lib/python3.12/site-packages (from aiohttp->datasets->gpn==0.6) (0.2.1)\n",
      "Requirement already satisfied: yarl<2.0,>=1.17.0 in /home/johanulstrup/miniconda3/envs/GPN/lib/python3.12/site-packages (from aiohttp->datasets->gpn==0.6) (1.18.3)\n",
      "Requirement already satisfied: gitdb<5,>=4.0.1 in /home/johanulstrup/miniconda3/envs/GPN/lib/python3.12/site-packages (from gitpython!=3.1.29,>=1.0.0->wandb->gpn==0.6) (4.0.12)\n",
      "Requirement already satisfied: deprecated in /home/johanulstrup/miniconda3/envs/GPN/lib/python3.12/site-packages (from numcodecs>=0.14->numcodecs[crc32c]>=0.14->zarr->gpn==0.6) (1.2.18)\n",
      "Requirement already satisfied: crc32c>=2.7 in /home/johanulstrup/miniconda3/envs/GPN/lib/python3.12/site-packages (from numcodecs[crc32c]>=0.14->zarr->gpn==0.6) (2.7.1)\n",
      "Requirement already satisfied: annotated-types>=0.6.0 in /home/johanulstrup/miniconda3/envs/GPN/lib/python3.12/site-packages (from pydantic<3,>=2.6->wandb->gpn==0.6) (0.7.0)\n",
      "Requirement already satisfied: pydantic-core==2.27.2 in /home/johanulstrup/miniconda3/envs/GPN/lib/python3.12/site-packages (from pydantic<3,>=2.6->wandb->gpn==0.6) (2.27.2)\n",
      "Requirement already satisfied: charset_normalizer<4,>=2 in /home/johanulstrup/miniconda3/envs/GPN/lib/python3.12/site-packages (from requests->bioframe->gpn==0.6) (3.4.1)\n",
      "Requirement already satisfied: idna<4,>=2.5 in /home/johanulstrup/miniconda3/envs/GPN/lib/python3.12/site-packages (from requests->bioframe->gpn==0.6) (3.10)\n",
      "Requirement already satisfied: urllib3<3,>=1.21.1 in /home/johanulstrup/miniconda3/envs/GPN/lib/python3.12/site-packages (from requests->bioframe->gpn==0.6) (2.3.0)\n",
      "Requirement already satisfied: certifi>=2017.4.17 in /home/johanulstrup/miniconda3/envs/GPN/lib/python3.12/site-packages (from requests->bioframe->gpn==0.6) (2024.12.14)\n",
      "Requirement already satisfied: networkx in /home/johanulstrup/miniconda3/envs/GPN/lib/python3.12/site-packages (from torch>=2.0->transformers[torch]->gpn==0.6) (3.4.2)\n",
      "Requirement already satisfied: jinja2 in /home/johanulstrup/miniconda3/envs/GPN/lib/python3.12/site-packages (from torch>=2.0->transformers[torch]->gpn==0.6) (3.1.5)\n",
      "Requirement already satisfied: nvidia-cuda-nvrtc-cu12==12.4.127 in /home/johanulstrup/miniconda3/envs/GPN/lib/python3.12/site-packages (from torch>=2.0->transformers[torch]->gpn==0.6) (12.4.127)\n",
      "Requirement already satisfied: nvidia-cuda-runtime-cu12==12.4.127 in /home/johanulstrup/miniconda3/envs/GPN/lib/python3.12/site-packages (from torch>=2.0->transformers[torch]->gpn==0.6) (12.4.127)\n",
      "Requirement already satisfied: nvidia-cuda-cupti-cu12==12.4.127 in /home/johanulstrup/miniconda3/envs/GPN/lib/python3.12/site-packages (from torch>=2.0->transformers[torch]->gpn==0.6) (12.4.127)\n",
      "Requirement already satisfied: nvidia-cudnn-cu12==9.1.0.70 in /home/johanulstrup/miniconda3/envs/GPN/lib/python3.12/site-packages (from torch>=2.0->transformers[torch]->gpn==0.6) (9.1.0.70)\n",
      "Requirement already satisfied: nvidia-cublas-cu12==12.4.5.8 in /home/johanulstrup/miniconda3/envs/GPN/lib/python3.12/site-packages (from torch>=2.0->transformers[torch]->gpn==0.6) (12.4.5.8)\n",
      "Requirement already satisfied: nvidia-cufft-cu12==11.2.1.3 in /home/johanulstrup/miniconda3/envs/GPN/lib/python3.12/site-packages (from torch>=2.0->transformers[torch]->gpn==0.6) (11.2.1.3)\n",
      "Requirement already satisfied: nvidia-curand-cu12==10.3.5.147 in /home/johanulstrup/miniconda3/envs/GPN/lib/python3.12/site-packages (from torch>=2.0->transformers[torch]->gpn==0.6) (10.3.5.147)\n",
      "Requirement already satisfied: nvidia-cusolver-cu12==11.6.1.9 in /home/johanulstrup/miniconda3/envs/GPN/lib/python3.12/site-packages (from torch>=2.0->transformers[torch]->gpn==0.6) (11.6.1.9)\n",
      "Requirement already satisfied: nvidia-cusparse-cu12==12.3.1.170 in /home/johanulstrup/miniconda3/envs/GPN/lib/python3.12/site-packages (from torch>=2.0->transformers[torch]->gpn==0.6) (12.3.1.170)\n",
      "Requirement already satisfied: nvidia-cusparselt-cu12==0.6.2 in /home/johanulstrup/miniconda3/envs/GPN/lib/python3.12/site-packages (from torch>=2.0->transformers[torch]->gpn==0.6) (0.6.2)\n",
      "Requirement already satisfied: nvidia-nccl-cu12==2.21.5 in /home/johanulstrup/miniconda3/envs/GPN/lib/python3.12/site-packages (from torch>=2.0->transformers[torch]->gpn==0.6) (2.21.5)\n",
      "Requirement already satisfied: nvidia-nvtx-cu12==12.4.127 in /home/johanulstrup/miniconda3/envs/GPN/lib/python3.12/site-packages (from torch>=2.0->transformers[torch]->gpn==0.6) (12.4.127)\n",
      "Requirement already satisfied: nvidia-nvjitlink-cu12==12.4.127 in /home/johanulstrup/miniconda3/envs/GPN/lib/python3.12/site-packages (from torch>=2.0->transformers[torch]->gpn==0.6) (12.4.127)\n",
      "Requirement already satisfied: triton==3.2.0 in /home/johanulstrup/miniconda3/envs/GPN/lib/python3.12/site-packages (from torch>=2.0->transformers[torch]->gpn==0.6) (3.2.0)\n",
      "Requirement already satisfied: sympy==1.13.1 in /home/johanulstrup/miniconda3/envs/GPN/lib/python3.12/site-packages (from torch>=2.0->transformers[torch]->gpn==0.6) (1.13.1)\n",
      "Requirement already satisfied: mpmath<1.4,>=1.1.0 in /home/johanulstrup/miniconda3/envs/GPN/lib/python3.12/site-packages (from sympy==1.13.1->torch>=2.0->transformers[torch]->gpn==0.6) (1.3.0)\n",
      "Requirement already satisfied: contourpy>=1.0.1 in /home/johanulstrup/miniconda3/envs/GPN/lib/python3.12/site-packages (from matplotlib->bioframe->gpn==0.6) (1.3.1)\n",
      "Requirement already satisfied: cycler>=0.10 in /home/johanulstrup/miniconda3/envs/GPN/lib/python3.12/site-packages (from matplotlib->bioframe->gpn==0.6) (0.12.1)\n",
      "Requirement already satisfied: fonttools>=4.22.0 in /home/johanulstrup/miniconda3/envs/GPN/lib/python3.12/site-packages (from matplotlib->bioframe->gpn==0.6) (4.55.8)\n",
      "Requirement already satisfied: kiwisolver>=1.3.1 in /home/johanulstrup/miniconda3/envs/GPN/lib/python3.12/site-packages (from matplotlib->bioframe->gpn==0.6) (1.4.8)\n",
      "Requirement already satisfied: pillow>=8 in /home/johanulstrup/miniconda3/envs/GPN/lib/python3.12/site-packages (from matplotlib->bioframe->gpn==0.6) (11.1.0)\n",
      "Requirement already satisfied: pyparsing>=2.3.1 in /home/johanulstrup/miniconda3/envs/GPN/lib/python3.12/site-packages (from matplotlib->bioframe->gpn==0.6) (3.2.1)\n",
      "Requirement already satisfied: smmap<6,>=3.0.1 in /home/johanulstrup/miniconda3/envs/GPN/lib/python3.12/site-packages (from gitdb<5,>=4.0.1->gitpython!=3.1.29,>=1.0.0->wandb->gpn==0.6) (5.0.2)\n",
      "Requirement already satisfied: wrapt<2,>=1.10 in /home/johanulstrup/miniconda3/envs/GPN/lib/python3.12/site-packages (from deprecated->numcodecs>=0.14->numcodecs[crc32c]>=0.14->zarr->gpn==0.6) (1.17.2)\n",
      "Requirement already satisfied: MarkupSafe>=2.0 in /home/johanulstrup/miniconda3/envs/GPN/lib/python3.12/site-packages (from jinja2->torch>=2.0->transformers[torch]->gpn==0.6) (3.0.2)\n",
      "Note: you may need to restart the kernel to use updated packages.\n"
     ]
    }
   ],
   "source": [
    "pip install git+https://github.com/songlab-cal/gpn.git"
   ]
  },
  {
   "cell_type": "code",
   "execution_count": null,
   "id": "968ac31b-6a1d-4d55-af70-b4c2fc1daff3",
   "metadata": {},
   "outputs": [],
   "source": [
    "### quick start gouid "
   ]
  },
  {
   "cell_type": "code",
   "execution_count": 1,
   "id": "92f72e22-5a93-4db5-b55c-9397ea692b0e",
   "metadata": {},
   "outputs": [
    {
     "name": "stderr",
     "output_type": "stream",
     "text": [
      "/home/johanulstrup/miniconda3/envs/GPN/lib/python3.12/site-packages/tqdm/auto.py:21: TqdmWarning: IProgress not found. Please update jupyter and ipywidgets. See https://ipywidgets.readthedocs.io/en/stable/user_install.html\n",
      "  from .autonotebook import tqdm as notebook_tqdm\n"
     ]
    }
   ],
   "source": [
    "import gpn.model\n",
    "from transformers import AutoModelForMaskedLM\n",
    "\n",
    "model = AutoModelForMaskedLM.from_pretrained(\"songlab/gpn-brassicales\")\n",
    "# or\n",
    "#model = AutoModelForMaskedLM.from_pretrained(\"songlab/gpn-msa-sapiens\")"
   ]
  },
  {
   "cell_type": "code",
   "execution_count": 2,
   "id": "67e76a28-e559-4190-9e72-4fa8838eac00",
   "metadata": {},
   "outputs": [
    {
     "ename": "SyntaxError",
     "evalue": "invalid syntax (519465056.py, line 1)",
     "output_type": "error",
     "traceback": [
      "\u001b[0;36m  Cell \u001b[0;32mIn[2], line 1\u001b[0;36m\u001b[0m\n\u001b[0;31m    pip install quarto\u001b[0m\n\u001b[0m        ^\u001b[0m\n\u001b[0;31mSyntaxError\u001b[0m\u001b[0;31m:\u001b[0m invalid syntax\n"
     ]
    }
   ],
   "source": [
    "pip install quarto\n",
    "\n"
   ]
  },
  {
   "cell_type": "code",
   "execution_count": null,
   "id": "2a40d8bd-1db1-4296-86da-ec0f49a74029",
   "metadata": {},
   "outputs": [],
   "source": [
    "## just a test"
   ]
  }
 ],
 "metadata": {
  "kernelspec": {
   "display_name": "Python 3 (ipykernel)",
   "language": "python",
   "name": "python3"
  },
  "language_info": {
   "codemirror_mode": {
    "name": "ipython",
    "version": 3
   },
   "file_extension": ".py",
   "mimetype": "text/x-python",
   "name": "python",
   "nbconvert_exporter": "python",
   "pygments_lexer": "ipython3",
   "version": "3.12.8"
  }
 },
 "nbformat": 4,
 "nbformat_minor": 5
}
