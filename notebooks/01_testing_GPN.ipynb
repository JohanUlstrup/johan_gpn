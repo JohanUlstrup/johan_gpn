{
 "cells": [
  {
   "cell_type": "markdown",
   "id": "ffc29496-aa03-4c66-b7c4-d35579e8dd35",
   "metadata": {},
   "source": [
    "### installing GPN\n"
   ]
  },
  {
   "cell_type": "code",
   "execution_count": 11,
   "id": "0e622fa1-da16-4346-8b7e-8145deb6c763",
   "metadata": {},
   "outputs": [],
   "source": [
    "#pip install git+https://github.com/songlab-cal/gpn.git"
   ]
  },
  {
   "cell_type": "code",
   "execution_count": null,
   "id": "968ac31b-6a1d-4d55-af70-b4c2fc1daff3",
   "metadata": {},
   "outputs": [],
   "source": [
    "### quick start gouid "
   ]
  },
  {
   "cell_type": "code",
   "execution_count": 1,
   "id": "92f72e22-5a93-4db5-b55c-9397ea692b0e",
   "metadata": {},
   "outputs": [
    {
     "name": "stderr",
     "output_type": "stream",
     "text": [
      "/home/johanulstrup/miniconda3/envs/GPN/lib/python3.12/site-packages/tqdm/auto.py:21: TqdmWarning: IProgress not found. Please update jupyter and ipywidgets. See https://ipywidgets.readthedocs.io/en/stable/user_install.html\n",
      "  from .autonotebook import tqdm as notebook_tqdm\n"
     ]
    }
   ],
   "source": [
    "import gpn.model\n",
    "from transformers import AutoModelForMaskedLM\n",
    "\n",
    "model = AutoModelForMaskedLM.from_pretrained(\"songlab/gpn-brassicales\")\n",
    "# or\n",
    "#model = AutoModelForMaskedLM.from_pretrained(\"songlab/gpn-msa-sapiens\")"
   ]
  },
  {
   "cell_type": "code",
   "execution_count": 10,
   "id": "67e76a28-e559-4190-9e72-4fa8838eac00",
   "metadata": {},
   "outputs": [],
   "source": [
    "#pip install quarto\n",
    "\n"
   ]
  },
  {
   "cell_type": "code",
   "execution_count": null,
   "id": "2a40d8bd-1db1-4296-86da-ec0f49a74029",
   "metadata": {},
   "outputs": [],
   "source": [
    "## just a test"
   ]
  },
  {
   "cell_type": "code",
   "execution_count": 9,
   "id": "55618360-52d4-440f-9b62-4d75b7d5d4ab",
   "metadata": {},
   "outputs": [],
   "source": [
    "#conda install seaborn\n"
   ]
  },
  {
   "cell_type": "code",
   "execution_count": 4,
   "id": "29f46957-7898-4736-94e5-f7830306c0f5",
   "metadata": {},
   "outputs": [],
   "source": [
    "### just for fun lets load some data\n",
    "import sys\n",
    "import numpy as np\n",
    "import pandas as pd\n",
    "from IPython.display import display, Markdown\n",
    "import matplotlib.pyplot as plt\n",
    "import seaborn as sns\n",
    "sns.set()\n",
    "\n",
    "sns.set_context(context='paper', font_scale=0.8, rc=None)\n",
    "# sns.set_context(context='notebook', font_scale=1, rc=None)\n",
    "\n",
    "sns.set_style(\"ticks\", {\"axes.spines.top\": False, \n",
    "                        \"axes.spines.right\": False,\n",
    "                       \"legend.edgecolor\": 'white'})\n",
    "import random\n",
    "random_seed = 5\n",
    "\n",
    "sys.path.append('..')\n",
    "from global_params import load_params"
   ]
  },
  {
   "cell_type": "code",
   "execution_count": 6,
   "id": "09d903aa-efc7-48bc-8c74-328f4b13082c",
   "metadata": {},
   "outputs": [
    {
     "data": {
      "text/plain": [
       "{'sample_size': 24}"
      ]
     },
     "execution_count": 6,
     "metadata": {},
     "output_type": "execute_result"
    }
   ],
   "source": [
    "params = load_params('../global_params.yml')\n",
    "params"
   ]
  },
  {
   "cell_type": "code",
   "execution_count": 7,
   "id": "419d2ce8-34cf-409d-bd9c-e79244228199",
   "metadata": {},
   "outputs": [
    {
     "data": {
      "text/plain": [
       "24"
      ]
     },
     "execution_count": 7,
     "metadata": {},
     "output_type": "execute_result"
    }
   ],
   "source": [
    "params.sample_size"
   ]
  },
  {
   "cell_type": "code",
   "execution_count": 8,
   "id": "1deb7c86-df71-49a8-90ce-d864c79afb79",
   "metadata": {},
   "outputs": [
    {
     "data": {
      "text/html": [
       "<div>\n",
       "<style scoped>\n",
       "    .dataframe tbody tr th:only-of-type {\n",
       "        vertical-align: middle;\n",
       "    }\n",
       "\n",
       "    .dataframe tbody tr th {\n",
       "        vertical-align: top;\n",
       "    }\n",
       "\n",
       "    .dataframe thead th {\n",
       "        text-align: right;\n",
       "    }\n",
       "</style>\n",
       "<table border=\"1\" class=\"dataframe\">\n",
       "  <thead>\n",
       "    <tr style=\"text-align: right;\">\n",
       "      <th></th>\n",
       "      <th>name</th>\n",
       "      <th>age</th>\n",
       "      <th>sex</th>\n",
       "      <th>position</th>\n",
       "      <th>nationality</th>\n",
       "    </tr>\n",
       "  </thead>\n",
       "  <tbody>\n",
       "    <tr>\n",
       "      <th>0</th>\n",
       "      <td>Julie</td>\n",
       "      <td>27</td>\n",
       "      <td>F</td>\n",
       "      <td>PhDstudent</td>\n",
       "      <td>DK</td>\n",
       "    </tr>\n",
       "    <tr>\n",
       "      <th>1</th>\n",
       "      <td>Thomas</td>\n",
       "      <td>33</td>\n",
       "      <td>M</td>\n",
       "      <td>Postdoc</td>\n",
       "      <td>GB</td>\n",
       "    </tr>\n",
       "    <tr>\n",
       "      <th>2</th>\n",
       "      <td>Emilie</td>\n",
       "      <td>23</td>\n",
       "      <td>F</td>\n",
       "      <td>PhDstudent</td>\n",
       "      <td>CH</td>\n",
       "    </tr>\n",
       "    <tr>\n",
       "      <th>3</th>\n",
       "      <td>Sofie</td>\n",
       "      <td>31</td>\n",
       "      <td>F</td>\n",
       "      <td>Postdoc</td>\n",
       "      <td>DK</td>\n",
       "    </tr>\n",
       "    <tr>\n",
       "      <th>4</th>\n",
       "      <td>Sara</td>\n",
       "      <td>29</td>\n",
       "      <td>F</td>\n",
       "      <td>Postdoc</td>\n",
       "      <td>US</td>\n",
       "    </tr>\n",
       "    <tr>\n",
       "      <th>5</th>\n",
       "      <td>Cecilie</td>\n",
       "      <td>34</td>\n",
       "      <td>F</td>\n",
       "      <td>Postdoc</td>\n",
       "      <td>DK</td>\n",
       "    </tr>\n",
       "    <tr>\n",
       "      <th>6</th>\n",
       "      <td>Anders</td>\n",
       "      <td>32</td>\n",
       "      <td>M</td>\n",
       "      <td>PhDstudent</td>\n",
       "      <td>UK</td>\n",
       "    </tr>\n",
       "    <tr>\n",
       "      <th>7</th>\n",
       "      <td>Emma</td>\n",
       "      <td>42</td>\n",
       "      <td>F</td>\n",
       "      <td>Professor</td>\n",
       "      <td>DK</td>\n",
       "    </tr>\n",
       "    <tr>\n",
       "      <th>8</th>\n",
       "      <td>Caroline</td>\n",
       "      <td>31</td>\n",
       "      <td>F</td>\n",
       "      <td>PhDstudent</td>\n",
       "      <td>DK</td>\n",
       "    </tr>\n",
       "    <tr>\n",
       "      <th>9</th>\n",
       "      <td>Laura</td>\n",
       "      <td>30</td>\n",
       "      <td>F</td>\n",
       "      <td>Postdoc</td>\n",
       "      <td>DK</td>\n",
       "    </tr>\n",
       "    <tr>\n",
       "      <th>10</th>\n",
       "      <td>Mikkel</td>\n",
       "      <td>33</td>\n",
       "      <td>M</td>\n",
       "      <td>Postdoc</td>\n",
       "      <td>NL</td>\n",
       "    </tr>\n",
       "    <tr>\n",
       "      <th>11</th>\n",
       "      <td>Jens</td>\n",
       "      <td>27</td>\n",
       "      <td>M</td>\n",
       "      <td>PhDstudent</td>\n",
       "      <td>DK</td>\n",
       "    </tr>\n",
       "    <tr>\n",
       "      <th>12</th>\n",
       "      <td>Andreas</td>\n",
       "      <td>29</td>\n",
       "      <td>M</td>\n",
       "      <td>PhDstudent</td>\n",
       "      <td>DK</td>\n",
       "    </tr>\n",
       "    <tr>\n",
       "      <th>13</th>\n",
       "      <td>Jakob</td>\n",
       "      <td>28</td>\n",
       "      <td>M</td>\n",
       "      <td>PhDstudent</td>\n",
       "      <td>DK</td>\n",
       "    </tr>\n",
       "    <tr>\n",
       "      <th>14</th>\n",
       "      <td>Mathilde</td>\n",
       "      <td>61</td>\n",
       "      <td>F</td>\n",
       "      <td>Professor</td>\n",
       "      <td>DK</td>\n",
       "    </tr>\n",
       "    <tr>\n",
       "      <th>15</th>\n",
       "      <td>Katrine</td>\n",
       "      <td>35</td>\n",
       "      <td>F</td>\n",
       "      <td>Postdoc</td>\n",
       "      <td>DK</td>\n",
       "    </tr>\n",
       "    <tr>\n",
       "      <th>16</th>\n",
       "      <td>Poul</td>\n",
       "      <td>30</td>\n",
       "      <td>M</td>\n",
       "      <td>Postdoc</td>\n",
       "      <td>DK</td>\n",
       "    </tr>\n",
       "    <tr>\n",
       "      <th>17</th>\n",
       "      <td>Anna</td>\n",
       "      <td>26</td>\n",
       "      <td>F</td>\n",
       "      <td>PhDstudent</td>\n",
       "      <td>DK</td>\n",
       "    </tr>\n",
       "    <tr>\n",
       "      <th>18</th>\n",
       "      <td>Peter</td>\n",
       "      <td>42</td>\n",
       "      <td>M</td>\n",
       "      <td>Professor</td>\n",
       "      <td>GB</td>\n",
       "    </tr>\n",
       "    <tr>\n",
       "      <th>19</th>\n",
       "      <td>Ida</td>\n",
       "      <td>53</td>\n",
       "      <td>F</td>\n",
       "      <td>Postdoc</td>\n",
       "      <td>DK</td>\n",
       "    </tr>\n",
       "    <tr>\n",
       "      <th>20</th>\n",
       "      <td>Freja</td>\n",
       "      <td>30</td>\n",
       "      <td>F</td>\n",
       "      <td>Postdoc</td>\n",
       "      <td>DK</td>\n",
       "    </tr>\n",
       "    <tr>\n",
       "      <th>21</th>\n",
       "      <td>Maria</td>\n",
       "      <td>39</td>\n",
       "      <td>F</td>\n",
       "      <td>Professor</td>\n",
       "      <td>UK</td>\n",
       "    </tr>\n",
       "    <tr>\n",
       "      <th>22</th>\n",
       "      <td>Amalie</td>\n",
       "      <td>29</td>\n",
       "      <td>F</td>\n",
       "      <td>PhDstudent</td>\n",
       "      <td>DK</td>\n",
       "    </tr>\n",
       "    <tr>\n",
       "      <th>23</th>\n",
       "      <td>Camilla</td>\n",
       "      <td>35</td>\n",
       "      <td>F</td>\n",
       "      <td>Postdoc</td>\n",
       "      <td>DK</td>\n",
       "    </tr>\n",
       "  </tbody>\n",
       "</table>\n",
       "</div>"
      ],
      "text/plain": [
       "        name  age sex    position nationality\n",
       "0      Julie   27   F  PhDstudent          DK\n",
       "1     Thomas   33   M     Postdoc          GB\n",
       "2     Emilie   23   F  PhDstudent          CH\n",
       "3      Sofie   31   F     Postdoc          DK\n",
       "4       Sara   29   F     Postdoc          US\n",
       "5    Cecilie   34   F     Postdoc          DK\n",
       "6     Anders   32   M  PhDstudent          UK\n",
       "7       Emma   42   F   Professor          DK\n",
       "8   Caroline   31   F  PhDstudent          DK\n",
       "9      Laura   30   F     Postdoc          DK\n",
       "10    Mikkel   33   M     Postdoc          NL\n",
       "11      Jens   27   M  PhDstudent          DK\n",
       "12   Andreas   29   M  PhDstudent          DK\n",
       "13     Jakob   28   M  PhDstudent          DK\n",
       "14  Mathilde   61   F   Professor          DK\n",
       "15   Katrine   35   F     Postdoc          DK\n",
       "16      Poul   30   M     Postdoc          DK\n",
       "17      Anna   26   F  PhDstudent          DK\n",
       "18     Peter   42   M   Professor          GB\n",
       "19       Ida   53   F     Postdoc          DK\n",
       "20     Freja   30   F     Postdoc          DK\n",
       "21     Maria   39   F   Professor          UK\n",
       "22    Amalie   29   F  PhDstudent          DK\n",
       "23   Camilla   35   F     Postdoc          DK"
      ]
     },
     "execution_count": 8,
     "metadata": {},
     "output_type": "execute_result"
    }
   ],
   "source": [
    "subjects = pd.read_csv('../data/data_table.csv')\n",
    "assert subjects.index.size == params.sample_size\n",
    "subjects"
   ]
  },
  {
   "cell_type": "code",
   "execution_count": null,
   "id": "3e3a09ba-c1e2-4d9b-a06e-d1539bb93ba0",
   "metadata": {},
   "outputs": [],
   "source": []
  }
 ],
 "metadata": {
  "kernelspec": {
   "display_name": "Python 3 (ipykernel)",
   "language": "python",
   "name": "python3"
  },
  "language_info": {
   "codemirror_mode": {
    "name": "ipython",
    "version": 3
   },
   "file_extension": ".py",
   "mimetype": "text/x-python",
   "name": "python",
   "nbconvert_exporter": "python",
   "pygments_lexer": "ipython3",
   "version": "3.12.8"
  }
 },
 "nbformat": 4,
 "nbformat_minor": 5
}
